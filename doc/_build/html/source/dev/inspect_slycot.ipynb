{
 "cells": [
  {
   "cell_type": "markdown",
   "metadata": {},
   "source": [
    "# Inspect Slycot"
   ]
  },
  {
   "cell_type": "markdown",
   "metadata": {},
   "source": [
    "This notebook shows how to inspect the slycot module.\n",
    "The result gives us a first insight which slicot procedures are implemented.\n",
    "In addition we get some insight about the orginisation of the module."
   ]
  },
  {
   "cell_type": "code",
   "execution_count": 23,
   "metadata": {},
   "outputs": [
    {
     "name": "stdout",
     "output_type": "stream",
     "text": [
      "0.5.5.dev0+g294eae0.d20230726\n"
     ]
    }
   ],
   "source": [
    "import slycot\n",
    "print(slycot.__version__)"
   ]
  },
  {
   "cell_type": "markdown",
   "metadata": {},
   "source": [
    "## Inspect Wrapper function"
   ]
  },
  {
   "cell_type": "code",
   "execution_count": 24,
   "metadata": {},
   "outputs": [],
   "source": [
    "def get_slycot_method(sly):\n",
    "    all_attributes = dir(sly)\n",
    "    r = re.compile(\"[a-z][a-z][0-9][0-9a-z][a-z][a-z]\")\n",
    "    matched_attributes = list(filter(r.match, all_attributes)) # Read Note below\n",
    "    return matched_attributes"
   ]
  },
  {
   "cell_type": "markdown",
   "metadata": {},
   "source": [
    "### Outer wrapper"
   ]
  },
  {
   "cell_type": "code",
   "execution_count": 25,
   "metadata": {},
   "outputs": [
    {
     "name": "stdout",
     "output_type": "stream",
     "text": [
      "Currently there are 50 methods implemented.\n",
      "------\n",
      "['ab01nd', 'ab04md', 'ab05md', 'ab05nd', 'ab07nd', 'ab08nd', 'ab08nz', 'ab09ad', 'ab09ax', 'ab09bd', 'ab09md', 'ab09nd', 'ab13bd', 'ab13dd', 'ab13ed', 'ab13fd', 'ab13md', 'mb03rd', 'mb03vd', 'mb03vy', 'mb03wd', 'mb05md', 'mb05nd', 'mc01td', 'sb01bd', 'sb02md', 'sb02mt', 'sb02od', 'sb03md', 'sb03md57', 'sb03od', 'sb04md', 'sb04qd', 'sb10ad', 'sb10dd', 'sb10fd', 'sb10hd', 'sg02ad', 'sg03ad', 'sg03bd', 'tb01id', 'tb01pd', 'tb03ad', 'tb04ad', 'tb05ad', 'tc01od', 'tc04ad', 'td04ad', 'tf01md', 'tf01rd']\n"
     ]
    }
   ],
   "source": [
    "slycot_wrapper = get_slycot_method(slycot)\n",
    "\n",
    "print(f\"Currently there are {len(slycot_wrapper)} methods implemented.\")\n",
    "print(\"------\")\n",
    "print(slycot_wrapper)\n"
   ]
  },
  {
   "cell_type": "markdown",
   "metadata": {},
   "source": [
    "### Inner wrapper"
   ]
  },
  {
   "cell_type": "code",
   "execution_count": 26,
   "metadata": {},
   "outputs": [
    {
     "name": "stdout",
     "output_type": "stream",
     "text": [
      "Currently there are 72 methods implemented.\n",
      "------\n",
      "['ab01nd', 'ab04md', 'ab05md', 'ab05nd', 'ab07nd', 'ab08nd', 'ab08nz', 'ab09ad', 'ab09ax', 'ab09bd', 'ab09md', 'ab09nd', 'ab13bd', 'ab13dd', 'ab13ed', 'ab13fd', 'ab13md', 'ag08bd', 'mb03rd', 'mb03vd', 'mb03vy', 'mb03wd', 'mb05md', 'mb05nd', 'mc01td', 'sb01bd', 'sb02md', 'sb02mt_c', 'sb02mt_cl', 'sb02mt_n', 'sb02mt_nl', 'sb02od_b', 'sb02od_c', 'sb02od_d', 'sb02od_n', 'sb03md', 'sb03od', 'sb04md', 'sb04qd', 'sb10ad', 'sb10dd', 'sb10fd', 'sb10hd', 'sb10jd', 'sg02ad_bb', 'sg02ad_bc', 'sg02ad_bd', 'sg02ad_bn', 'sg02ad_g', 'sg03ad', 'sg03bd', 'tb01id', 'tb01pd', 'tb03ad_l', 'tb03ad_r', 'tb04ad_c', 'tb04ad_r', 'tb05ad_ag', 'tb05ad_ng', 'tb05ad_nh', 'tc01od_l', 'tc01od_r', 'tc04ad_l', 'tc04ad_r', 'td04ad_c', 'td04ad_r', 'tf01md', 'tf01rd', 'tg01ad', 'tg01fd_ii', 'tg01fd_nn', 'tg01fd_uu']\n"
     ]
    }
   ],
   "source": [
    "slycot_f2py_wrapper = get_slycot_method(slycot._wrapper)\n",
    "\n",
    "print(f\"Currently there are {len(slycot_f2py_wrapper)} methods implemented.\")\n",
    "print(\"------\")\n",
    "print(slycot_f2py_wrapper)"
   ]
  },
  {
   "cell_type": "markdown",
   "metadata": {},
   "source": [
    "## Generate Sets for the Venn-Diagramm"
   ]
  },
  {
   "cell_type": "markdown",
   "metadata": {},
   "source": []
  },
  {
   "cell_type": "code",
   "execution_count": 27,
   "metadata": {},
   "outputs": [],
   "source": [
    "import matplotlib.pyplot as plt\n",
    "from matplotlib_venn import venn2"
   ]
  },
  {
   "cell_type": "code",
   "execution_count": 32,
   "metadata": {},
   "outputs": [
    {
     "name": "stdout",
     "output_type": "stream",
     "text": [
      "Currently there are 10 methods implemented.\n",
      "------\n",
      "['tb05ad', 'sb02od', 'tb04ad', 'tc01od', 'td04ad', 'sg02ad', 'tc04ad', 'sb02mt', 'tb03ad', 'sb03md57']\n",
      "\n",
      "\n",
      "Currently there are 32 methods implemented.\n",
      "------\n",
      "['td04ad_c', 'tc04ad_r', 'tb04ad_c', 'sg02ad_bn', 'sb02od_b', 'tc01od_r', 'sb02mt_nl', 'tb05ad_nh', 'sg02ad_g', 'sb02od_c', 'tb04ad_r', 'td04ad_r', 'tc04ad_l', 'tc01od_l', 'tg01fd_uu', 'tg01ad', 'sb02od_n', 'sb02od_d', 'ag08bd', 'sb02mt_c', 'sb02mt_cl', 'sb02mt_n', 'tb05ad_ag', 'sg02ad_bb', 'sg02ad_bd', 'tb05ad_ng', 'sg02ad_bc', 'tb03ad_r', 'sb10jd', 'tg01fd_ii', 'tg01fd_nn', 'tb03ad_l']\n",
      "\n",
      "\n",
      "Currently there are 42 methods implemented.\n",
      "------\n",
      "['td04ad_c', 'tc04ad_r', 'tb04ad_c', 'sg02ad_bn', 'tc01od_r', 'sb02mt', 'td04ad', 'sb02od_b', 'sb02mt_nl', 'sb03md57', 'tb05ad_nh', 'sg02ad_g', 'tb04ad', 'sb02od_c', 'tb04ad_r', 'td04ad_r', 'tc04ad_l', 'tc01od_l', 'tg01fd_uu', 'tb05ad', 'tg01ad', 'tc01od', 'sg02ad', 'sb02od_n', 'sb02od_d', 'ag08bd', 'sb02mt_c', 'sb02mt_cl', 'sb02mt_n', 'tb05ad_ag', 'sg02ad_bb', 'sb02od', 'sg02ad_bd', 'tb05ad_ng', 'tc04ad', 'tb03ad', 'sg02ad_bc', 'tb03ad_r', 'sb10jd', 'tg01fd_ii', 'tg01fd_nn', 'tb03ad_l']\n",
      "\n",
      "\n",
      "Currently there are 40 methods implemented.\n",
      "------\n",
      "['ab09md', 'tf01rd', 'ab09nd', 'ab13dd', 'ab13md', 'mb03rd', 'sb03md', 'sb01bd', 'sb10dd', 'ab08nz', 'tb01pd', 'mb03wd', 'ab05md', 'sg03bd', 'ab04md', 'ab09ax', 'ab13bd', 'sb10ad', 'tb01id', 'ab13ed', 'sg03ad', 'ab07nd', 'sb10fd', 'sb04qd', 'ab01nd', 'mb03vd', 'mc01td', 'sb10hd', 'ab09bd', 'tf01md', 'ab05nd', 'ab08nd', 'mb03vy', 'sb02md', 'sb04md', 'ab09ad', 'mb05md', 'ab13fd', 'sb03od', 'mb05nd']\n",
      "\n",
      "\n",
      "Currently there are 82 methods implemented.\n",
      "------\n",
      "['td04ad_c', 'ab09md', 'ab09nd', 'ab13dd', 'ab13md', 'mb03rd', 'td04ad', 'sb02od_b', 'ab08nz', 'tb01pd', 'sb02mt', 'sb02mt_nl', 'sb03md57', 'tb05ad_nh', 'sg03bd', 'sb10ad', 'tb04ad_r', 'td04ad_r', 'tc04ad_l', 'sg03ad', 'ab07nd', 'sb10fd', 'sb02od_n', 'sb04qd', 'sg02ad', 'ab01nd', 'sb02mt_cl', 'mb03vd', 'tb05ad_ag', 'sg02ad_bb', 'ab09bd', 'tf01md', 'sb02od', 'ab05nd', 'tc04ad', 'ab08nd', 'tb03ad', 'mb03vy', 'sb04md', 'tb03ad_r', 'tg01fd_ii', 'tg01fd_nn', 'tb03ad_l', 'tc04ad_r', 'tf01rd', 'sb03md', 'tb04ad_c', 'sb10dd', 'sb01bd', 'sg02ad_bn', 'tc01od_r', 'mb03wd', 'ab05md', 'sg02ad_g', 'ab04md', 'tb04ad', 'ab09ax', 'ab13bd', 'sb02od_c', 'tb01id', 'ab13ed', 'tc01od_l', 'tg01fd_uu', 'tg01ad', 'tb05ad', 'tc01od', 'sb02od_d', 'ag08bd', 'sb02mt_c', 'sb02mt_n', 'mc01td', 'sb10hd', 'sg02ad_bd', 'tb05ad_ng', 'sb02md', 'sg02ad_bc', 'sb10jd', 'ab09ad', 'mb05md', 'ab13fd', 'sb03od', 'mb05nd']\n",
      "\n",
      "\n"
     ]
    }
   ],
   "source": [
    "difference1 = list(set(slycot_wrapper) - set(slycot_f2py_wrapper))\n",
    "difference1\n",
    "\n",
    "print(f\"Currently there are {len(difference1)} methods implemented.\")\n",
    "print(\"------\")\n",
    "print(difference1)\n",
    "print(\"\\n\")\n",
    "\n",
    "difference2 = list(set(slycot_f2py_wrapper) - set(slycot_wrapper))\n",
    "difference2\n",
    "\n",
    "print(f\"Currently there are {len(difference2)} methods implemented.\")\n",
    "print(\"------\")\n",
    "print(difference2)\n",
    "print(\"\\n\")\n",
    "\n",
    "difference3 = list(set(slycot_f2py_wrapper) ^ set(slycot_wrapper))\n",
    "difference3\n",
    "\n",
    "print(f\"Currently there are {len(difference3)} methods implemented.\")\n",
    "print(\"------\")\n",
    "print(difference3)\n",
    "print(\"\\n\")\n",
    "\n",
    "intersection = list(set(slycot_f2py_wrapper) & set(slycot_wrapper))\n",
    "intersection\n",
    "\n",
    "print(f\"Currently there are {len(intersection)} methods implemented.\")\n",
    "print(\"------\")\n",
    "print(intersection)\n",
    "print(\"\\n\")\n",
    "\n",
    "union = list(set(slycot_f2py_wrapper) | set(slycot_wrapper))\n",
    "\n",
    "print(f\"Currently there are {len(union)} methods implemented.\")\n",
    "print(\"------\")\n",
    "print(union)\n",
    "print(\"\\n\")"
   ]
  },
  {
   "cell_type": "code",
   "execution_count": 33,
   "metadata": {},
   "outputs": [
    {
     "data": {
      "image/png": "[encoded data removed]",
      "text/plain": [
       "<Figure size 640x480 with 1 Axes>"
      ]
     },
     "metadata": {},
     "output_type": "display_data"
    }
   ],
   "source": [
    "venn2(subsets = (len(set(slycot_wrapper)), \n",
    "                 len(set(slycot_f2py_wrapper)), \n",
    "                 len(intersection)), set_labels = ('slycot_wrapper', 'slycot_f2py_wrapper'))\n",
    "plt.show()"
   ]
  }
 ],
 "metadata": {
  "kernelspec": {
   "display_name": "slycot-dev",
   "language": "python",
   "name": "python3"
  },
  "language_info": {
   "codemirror_mode": {
    "name": "ipython",
    "version": 3
   },
   "file_extension": ".py",
   "mimetype": "text/x-python",
   "name": "python",
   "nbconvert_exporter": "python",
   "pygments_lexer": "ipython3",
   "version": "3.10.6"
  }
 },
 "nbformat": 4,
 "nbformat_minor": 2
}
