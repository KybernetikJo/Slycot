{
 "cells": [
  {
   "attachments": {},
   "cell_type": "markdown",
   "metadata": {},
   "source": [
    "# SLICOT vs Slycot"
   ]
  },
  {
   "cell_type": "code",
   "execution_count": 1,
   "metadata": {},
   "outputs": [
    {
     "data": {
      "text/plain": [
       "'0.1.dev606+g8b31df8'"
      ]
     },
     "execution_count": 1,
     "metadata": {},
     "output_type": "execute_result"
    }
   ],
   "source": [
    "import re\n",
    "import matplotlib.pyplot as plt\n",
    "from matplotlib_venn import venn2\n",
    "\n",
    "import slycot\n",
    "slycot.__version__"
   ]
  },
  {
   "attachments": {},
   "cell_type": "markdown",
   "metadata": {},
   "source": [
    "## Inspect function"
   ]
  },
  {
   "cell_type": "code",
   "execution_count": 2,
   "metadata": {},
   "outputs": [],
   "source": [
    "def print_list_chunks(l, n=6):\n",
    "      \n",
    "    start = 0\n",
    "    end = len(l)\n",
    "    step = n\n",
    "    for i in range(start, end, step):\n",
    "        x = i\n",
    "        print(l[x:x+step])"
   ]
  },
  {
   "cell_type": "code",
   "execution_count": 3,
   "metadata": {},
   "outputs": [
    {
     "name": "stdout",
     "output_type": "stream",
     "text": [
      "Currently there are 607 routines implemented.\n",
      "['mb01wd', 'tg01gd', 'ab13fd', 'sg03ay', 'mb01oe', 'mb02fd']\n",
      "['tg01oa', 'dg01ny', 'sg03ax', 'fb01qd', 'ma02az', 'mc01md']\n",
      "['md03by', 'tf01mx', 'ib01nd', 'mb02rz', 'mb04bp', 'tb01kd']\n",
      "['ab09gd', 'ma02jz', 'ud01cd', 'ib01rd', 'nf01bx', 'mb02rd']\n",
      "['ma02es', 'mb04iy', 'tg01id', 'mb01rd', 'mc01xd', 'mb04wr']\n",
      "['sg03bs', 'mb03kc', 'ma02cd', 'tb04ad', 'md03bx', 'mb03vy']\n",
      "['ab09cd', 'tf01nd', 'sb09md', 'sb03ot', 'mb04pu', 'mb04yd']\n",
      "['mb02pd', 'mb04tu', 'mb02ud', 'ib01cd', 'mb04dp', 'tg01fz']\n",
      "['sb04od', 'nf01ad', 'mb03qd', 'ab09bd', 'mb02jd', 'sb02mw']\n",
      "['ma02ad', 'mb04dl', 'sb08ed', 'tb01uy', 'md03ba', 'ab05nd']\n",
      "['mb03pd', 'sb02mx', 'sb04ow', 'ma02mz', 'mb02cy', 'ag08by']\n",
      "['mb03bb', 'ab09cx', 'mb01kd', 'sb02sd', 'mb01xd', 'sb01md']\n",
      "['mb02ny', 'sb02ox', 'sb10pd', 'ma01cd', 'tg01hd', 'mb02nd']\n",
      "['sb02cx', 'sb04px', 'mb03qg', 'tg01hx', 'mb03ag', 'mc01py']\n",
      "['mb03kb', 'mb04jd', 'tg01bd', 'tb03ay', 'ab13ed', 'sb03rd']\n",
      "['ma02id', 'ma02md', 'sb03os', 'mb02cv', 'mb05oy', 'sb06nd']\n",
      "['nf01bp', 'sb02od', 'mb03md', 'fb01vd', 'ma02iz', 'tb01ld']\n",
      "['mb02sd', 'tb01nd', 'ud01md', 'mb02xd', 'mb02md', 'sg03br']\n",
      "['mb04az', 'sb02ru', 'sb10qd', 'sg03bu', 'sb04qr', 'mb03lf']\n",
      "['ma01ad', 'sb04rd', 'ma02gd', 'sb04ry', 'ab13ad', 'ab13md']\n",
      "['nf01by', 'mb04nd', 'mb03yt', 'sg02cx', 'tg01hu', 'ab09kx']\n",
      "['mb04hd', 'mb03gd', 'sb08cd', 'mb03od', 'sb04mr', 'mb02kd']\n",
      "['ab09jx', 'ud01bd', 'fb01sd', 'mb03rd', 'ab07nd', 'mb03fd']\n",
      "['sb03ou', 'mb03ya', 'mb01rh', 'sb08hd', 'ab08nw', 'ab07md']\n",
      "['ab05qd', 'mb02qy', 'mb03id', 'ma02bd', 'ma02dd', 'mb04ed']\n",
      "['sb03td', 'mb04tv', 'td04ad', 'tb01ud', 'tc01od', 'nf01bs']\n",
      "['ma02oz', 'sg02nd', 'mb04ru', 'mc01rd', 'mb03bd', 'mb04tt']\n",
      "['sb08ny', 'tg01ad', 'sb04qu', 'nf01bf', 'tg01qd', 'mc01td']\n",
      "['mb04fp', 'mb03ud', 'mb3lzp', 'sb04nv', 'mb04qb', 'mb04wp']\n",
      "['mc01sy', 'sb10dd', 'mb02sz', 'mb04kd', 'tb04bw', 'mb01ry']\n",
      "['sb03mv', 'tb03ad', 'mb03gz', 'mb01ot', 'mb03be', 'tb01zd']\n",
      "['ab04md', 'mb01os', 'sb03qx', 'mb04pb', 'nf01bu', 'mb04su']\n",
      "['mc01od', 'sb16bd', 'mb02td', 'sg03ad', 'sb03qy', 'mb03xs']\n",
      "['md03bb', 'mb04qc', 'mb03jd', 'sb01by', 'ab09nd', 'sb03md']\n",
      "['mb04oy', 'mb05nd', 'ab08nx', 'mb01rb', 'dg01md', 'mb02wd']\n",
      "['sb03ud', 'mb03py', 'mc01pd', 'ma02pz', 'ab09iy', 'ma02od']\n",
      "['sb10td', 'tf01my', 'sb16cy', 'tg01oz', 'ab05pd', 'mb04cd']\n",
      "['sb16ay', 'sb10hd', 'mb02gd', 'mc03md', 'mb03bc', 'sb04nx']\n",
      "['mc01qd', 'ab01od', 'ab09jd', 'sb16ad', 'sg03bv', 'nf01bb']\n",
      "['ab09dd', 'mb03lp', 'md03bf', 'mb03ah', 'mb3jzp', 'sb04mu']\n",
      "['ab09kd', 'sb03ov', 'sb03pd', 'fd01ad', 'sb03sd', 'td05ad']\n",
      "['mb02hd', 'mb02cd', 'mb03qx', 'sb04nd', 'mb04tb', 'sb04pd']\n",
      "['tg01jy', 'tb04cd', 'tg01dd', 'ab09ed', 'mb03wx', 'tg01pd']\n",
      "['tf01pd', 'sb08fd', 'ab13ax', 'nf01ba', 'sb08md', 'mb04dy']\n",
      "['sb04my', 'ab09fd', 'mb04vd', 'mb01md', 'ib01oy', 'mb04ld']\n",
      "['sb01bd', 'sb02mu', 'sg03bx', 'tg01ed', 'mb02qd', 'mb01ss']\n",
      "['mb01rw', 'sb10ud', 'mb03cz', 'ag8byz', 'sb02ow', 'mb02dd']\n",
      "['sb08nd', 'mb03my', 'mb03yd', 'tg01od', 'mc01sw', 'ma02bz']\n",
      "['ib01ad', 'ab09hd', 'ud01mz', 'td03ad', 'sb03my', 'ib03bd']\n",
      "['mb04dd', 'mb04xd', 'ma02hd', 'ab09ax', 'tg01hy', 'mc01sx']\n",
      "['tb01ux', 'df01md', 'mb04vx', 'mb04wd', 'ab08md', 'tb01vd']\n",
      "['nf01ay', 'md03bd', 'mb03rz', 'ab09ix', 'ab13dd', 'tb01iz']\n",
      "['nf01bw', 'mb04qf', 'ab05sd', 'mb04db', 'mb03ai', 'sb08gd']\n",
      "['mb02od', 'mb04ty', 'mb02uv', 'ib01px', 'tb01ty', 'sb03oy']\n",
      "['sb03mu', 'tg01nd', 'ab09hx', 'ab09id', 'mb04id', 'mb03ed']\n",
      "['mb04di', 'mb04tx', 'sb03od', 'mb04xy', 'mb03hz', 'tc04ad']\n",
      "['mb01rx', 'sb02ov', 'mb03zd', 'mb03jp', 'mb02yd', 'mb04ox']\n",
      "['bd01ad', 'mb04fd', 'ab05md', 'tb04bx', 'dg01od', 'sb10zd']\n",
      "['mb01rt', 'sb02mr', 'ab01nd', 'mb04bz', 'ma01bz', 'ma02ed']\n",
      "['mb03ld', 'tb01md', 'tb01xz', 'mb04qs', 'ab09md', 'sb10id']\n",
      "['sb03sx', 'mb02cu', 'ab13bd', 'mb3oyz', 'mb02tz', 'tb01px']\n",
      "['mb03iz', 'sg03bw', 'mb04dz', 'nf01bv', 'bd02ad', 'tf01md']\n",
      "['mb03wd', 'mb4dbz', 'mb04tw', 'mb03vd', 'mb01oo', 'fb01rd']\n",
      "['mb04rb', 'mb03ry', 'mb01xy', 'tb05ad', 'ib03ad', 'mb03xz']\n",
      "['mb05md', 'mb02ed', 'sb03mw', 'sg03bd', 'mb01ru', 'mb01oc']\n",
      "['bb02ad', 'ab09jw', 'mb03cd', 'mb04pa', 'sb10yd', 'mb02jx']\n",
      "['tg01az', 'sg02ad', 'ma02hz', 'mb03dz', 'tg01md', 'sb08my']\n",
      "['tb04ay', 'sb02nd', 'sb02mt', 'sb04rw', 'mb04wu', 'nf01be']\n",
      "['de01pd', 'sb02mv', 'sb10ed', 'sb10zp', 'mb03lz', 'sb02oy']\n",
      "['sb04md', 'mb03bg', 'mb03ad', 'mb01uw', 'sb10kd', 'ma02jd']\n",
      "['ma02gz', 'tf01qd', 'mb03td', 'mb04gd', 'tb04bv', 'tg01ld']\n",
      "['mb03ba', 'ue01md', 'mb3pyz', 'mb03xp', 'sb02ou', 'mb01nd']\n",
      "['sg02cw', 'mb04yw', 'sb04mw', 'mb01uy', 'sg03by', 'ib01py']\n",
      "['mb02uw', 'tg01ob', 'mb03jz', 'mb04ad', 'tg01fd', 'mb03sd']\n",
      "['ab13id', 'ab08ny', 'mb03za', 'mb02uu', 'ab08nd', 'mc01wd']\n",
      "['tg01ly', 'mb01uz', 'mb03xu', 'mb03nd', 'ag07bd', 'sg03bt']\n",
      "['mb03xd', 'ma02nz', 'ab13dx', 'ab08nz', 'sb04ny', 'mb03ts']\n",
      "['sb04qy', 'mb03rx', 'mb03af', 'ib01md', 'mb03ke', 'sb02pd']\n",
      "['sb16cd', 'ab8nxz', 'mb04bd', 'tf01rd', 'mb01ux', 'mb03bz']\n",
      "['sb03sy', 'mc03ny', 'sb10ld', 'ma02fd', 'td03ay', 'bb04ad']\n",
      "['mb03ab', 'dk01md', 'ab05od', 'mc03nx', 'mb01td', 'tb01id']\n",
      "['tg01cd', 'mb04ow', 'sb04nw', 'mb03ae', 'mb03rw', 'mb03qy']\n",
      "['sb04py', 'nf01bq', 'mb03dd', 'tb01kx', 'mb01ud', 'ma01bd']\n",
      "['mb03ny', 'ab08mz', 'sb02rd', 'sb04qd', 'tb01wx', 'ag08bz']\n",
      "['tg01wd', 'tb04bd', 'sb02md', 'bb01ad', 'mc01sd', 'mc01vd']\n",
      "['sb10ad', 'mb01vd', 'de01od', 'ib01pd', 'mb03bf', 'sb02ms']\n",
      "['mb04py', 'mc03nd', 'tb01wd', 'mc01nd', 'dg01nd', 'ab09ad']\n",
      "['mb02id', 'tb01yd', 'sb03mx', 'mb03vw', 'sg02cv', 'ab05rd']\n",
      "['mb04ds', 'mb01od', 'mb4dpz', 'mb03oy', 'sb03qd', 'sb01bx']\n",
      "['sb08dd', 'ib01od', 'sb10md', 'mb01ld', 'mb04iz', 'mb05od']\n",
      "['tb01td', 'mb02vd', 'mb03fz', 'mb05my', 'mb01oh', 'mb04zd']\n",
      "['sb03oz', 'tg01kz', 'mb02cx', 'tg01jd', 'mb01zd', 'mb01pd']\n",
      "['sb01dd', 'mb03hd', 'sb02qd', 'mb03qw', 'tb01xd', 'ud01nd']\n",
      "['sb10rd', 'ib01my', 'tf01od', 'ud01dd', 'tb01vy', 'ab09hy']\n",
      "['sb04rx', 'ib01qd', 'mb04od', 'mb03qv', 'sg03bz', 'sb03or']\n",
      "['mb03kd', 'ab13cd', 'tg01kd', 'mb03wa', 'mb04ts', 'mb03ka']\n",
      "['mb4dlz', 'mb04qu', 'sb10fd', 'ma02pd', 'sb10jd', 'mb01qd']\n",
      "['ab09jv', 'sb10vd', 'fb01td', 'ma02ez', 'tc05ad', 'sb10wd']\n",
      "['md03ad', 'nf01bd', 'ma02cz', 'mb04ny', 'sb04rv', 'nf01br']\n",
      "['tb01pd', 'ab01md', 'ib01bd', 'mb01yd', 'tg01nx', 'sb01fy']\n",
      "['mb04md', 'sb10sd', 'mb04ud', 'mb01sd', 'ag08bd', 'ab09bx']\n",
      "['bb03ad']\n",
      "None\n"
     ]
    }
   ],
   "source": [
    "with open('slicot_procedures.txt') as f:\n",
    "    lines = f.readlines()\n",
    "\n",
    "slicot_methods = [x.split(\"\\n\")[0] for x in lines]\n",
    "\n",
    "print(f\"Currently there are {len(slicot_methods)} routines implemented.\")\n",
    "print(print_list_chunks(slicot_methods))"
   ]
  },
  {
   "cell_type": "code",
   "execution_count": 4,
   "metadata": {},
   "outputs": [
    {
     "name": "stdout",
     "output_type": "stream",
     "text": [
      "Currently there are 49 routines implemented.\n",
      "['ab01nd', 'ab05md', 'ab05nd', 'ab07nd', 'ab08nd', 'ab08nz']\n",
      "['ab09ad', 'ab09ax', 'ab09bd', 'ab09md', 'ab09nd', 'ab13bd']\n",
      "['ab13dd', 'ab13ed', 'ab13fd', 'ab13md', 'mb03rd', 'mb03vd']\n",
      "['mb03vy', 'mb03wd', 'mb05md', 'mb05nd', 'mc01td', 'sb01bd']\n",
      "['sb02md', 'sb02mt', 'sb02od', 'sb03md', 'sb03md57', 'sb03od']\n",
      "['sb04md', 'sb04qd', 'sb10ad', 'sb10dd', 'sb10fd', 'sb10hd']\n",
      "['sg02ad', 'sg03ad', 'sg03bd', 'tb01id', 'tb01pd', 'tb03ad']\n",
      "['tb04ad', 'tb05ad', 'tc01od', 'tc04ad', 'td04ad', 'tf01md']\n",
      "['tf01rd']\n",
      "None\n"
     ]
    }
   ],
   "source": [
    "def get_slycot_method(sly):\n",
    "    all_attributes = dir(sly)\n",
    "    r = re.compile(\"[a-z][a-z][0-9][0-9a-z][a-z][a-z]\")\n",
    "    matched_attributes = list(filter(r.match, all_attributes)) # Read Note below\n",
    "    return matched_attributes\n",
    "\n",
    "slycot_methods = get_slycot_method(slycot)\n",
    "\n",
    "print(f\"Currently there are {len(slycot_methods)} routines implemented.\")\n",
    "print(print_list_chunks(slycot_methods))"
   ]
  },
  {
   "cell_type": "code",
   "execution_count": 5,
   "metadata": {},
   "outputs": [
    {
     "name": "stdout",
     "output_type": "stream",
     "text": [
      "slicot_methods_count = {'m': 281, 't': 77, 'a': 60, 's': 131, 'd': 8, 'f': 6, 'i': 15, 'u': 7, 'n': 16, 'b': 6}\n",
      "slycot_methods_count = {'a': 16, 'm': 7, 's': 16, 't': 10}\n"
     ]
    }
   ],
   "source": [
    "def count_methods(list_methods):\n",
    "    d = {}\n",
    "    for w in list_methods:\n",
    "        if w:\n",
    "            if w[0] in d:\n",
    "                d[w[0]] = d[w[0]] + 1\n",
    "            else:\n",
    "                d[w[0]] = 1\n",
    "    return d\n",
    "\n",
    "slicot_methods_count = count_methods(slicot_methods)\n",
    "slycot_methods_count = count_methods(slycot_methods)\n",
    "print(f\"{slicot_methods_count = }\")\n",
    "print(f\"{slycot_methods_count = }\")"
   ]
  },
  {
   "cell_type": "code",
   "execution_count": 6,
   "metadata": {},
   "outputs": [
    {
     "data": {
      "image/png": "[encoded data removed]",
      "text/plain": [
       "<Figure size 640x480 with 1 Axes>"
      ]
     },
     "metadata": {},
     "output_type": "display_data"
    }
   ],
   "source": [
    "from collections import OrderedDict\n",
    "\n",
    "slicot_full_names = {\n",
    "    \"a\": \"Analysis Routines\",\n",
    "    \"b\": \"Benchmark\",\n",
    "    \"c\": \"Adaptive Control\",\n",
    "    \"d\": \"Data Analysis\",\n",
    "    \"f\": \"Filtering\",\n",
    "    \"i\": \"Identification\",\n",
    "    \"m\": \"Mathematical routines\",\n",
    "    \"n\": \"Nonlinear Systems\",\n",
    "    \"s\": \"Synthesis Routines\",\n",
    "    \"t\": \"Transformation Routines\",\n",
    "    \"u\": \"Utility Routines\",\n",
    "}\n",
    "\n",
    "names_sli = list(slicot_methods_count.keys())\n",
    "values_sli = list(slicot_methods_count.values())\n",
    "\n",
    "names_sly = list(slycot_methods_count.keys())\n",
    "values_sly = list(slycot_methods_count.values())\n",
    "\n",
    "\n",
    "plt.barh(range(len(slicot_methods_count)), values_sli, tick_label=[slicot_full_names[x] for x in names_sli])\n",
    "plt.barh(range(len(slycot_methods_count)), values_sly)\n",
    "plt.legend((\"slicot\",\"slycot\"))\n",
    "plt.title(\"Slicot vs Slycot\")\n",
    "plt.show()"
   ]
  },
  {
   "cell_type": "code",
   "execution_count": 7,
   "metadata": {},
   "outputs": [
    {
     "name": "stdout",
     "output_type": "stream",
     "text": [
      "Currently there are 608 routines implemented.\n",
      "------\n",
      "['ib01nd', 'ab09gd', 'sb04nx', 'mb02cy', 'mb01qd', 'mb04ox']\n",
      "['td03ad', 'ma02dd', 'mb03lp', 'mb03vw', 'sb08my', 'mb03bg']\n",
      "['ab08md', 'sb03sd', 'mb03af', 'ma01cd', 'sb16ay', 'sg03bv']\n",
      "['mb03ah', 'tg01kd', 'mb04md', 'mb01xy', 'ab09dd', 'mb02cu']\n",
      "['ma02od', 'ab09id', 'nf01bv', 'ma02iz', 'ud01dd', 'mb02wd']\n",
      "['mb03be', 'sb03oz', 'tg01oa', 'mb03xp', 'sb03td', 'mb3jzp']\n",
      "['sb10dd', 'sb03qx', 'mb03vd', 'mb01xd', 'mb02rd', 'mb01yd']\n",
      "['sb02nd', 'ma01ad', 'sb03mw', 'sb02sd', 'mb01rh', 'ab09jd']\n",
      "['bd01ad', 'mb02tz', 'mb04id', 'mb03ed', 'nf01by', 'mb02hd']\n",
      "['sb08md', 'md03bx', 'tb01ld', 'sb04ow', 'mb03xs', 'mc01sy']\n",
      "['sg03br', 'fb01sd', 'mb04hd', 'sb10id', 'mb03my', 'mb04kd']\n",
      "['sb08ed', 'ma02jz', 'sb03os', 'sb01dd', 'mb02dd', 'mb03xz']\n",
      "['tb04bx', 'ib03bd', 'mb04xd', 'sg02cw', 'tg01ad', 'tb03ad']\n",
      "['ma02pz', 'sb10hd', 'ab05qd', 'tb01pd', 'mb03qd', 'sb01bx']\n",
      "['mb02ny', 'tg01ob', 'sb08nd', 'mb03wx', 'ag08bz', 'md03bd']\n",
      "['sg03by', 'tb01td', 'sb04ry', 'ud01nd', 'mb05md', 'mb01rw']\n",
      "['mb03kd', 'mb01md', 'sb10ud', 'mb03id', 'mb01ry', 'sb04nd']\n",
      "['tf01mx', 'fb01td', 'mb04pa', 'mb4dbz', 'mb04gd', 'mb03dd']\n",
      "['mb04db', 'sg03ax', 'ab09fd', 'ab08nx', 'mb03fz', 'mb03qx']\n",
      "['mb02yd', 'ab09ad', 'mc01qd', 'ib01md', 'mb02ed', 'sb08gd']\n",
      "['ma01bz', 'tb01nd', 'sg03bx', 'mb02qd', 'tb01ty', 'mb03qw']\n",
      "['sb10fd', 'tg01md', 'mb04wp', 'ib03ad', 'mc03nd', 'ab09hy']\n",
      "['mb04ud', 'fb01vd', 'ib01od', 'mb04ds', 'sb03ou', 'mb04rb']\n",
      "['tg01oz', 'ma02hz', 'mb02sd', 'sb03rd', 'mb03gd', 'ma02ed']\n",
      "['sb02mw', 'bb02ad', 'tb01iz', 'tg01nd', 'tg01jd', 'ib01my']\n",
      "['tg01dd', 'ma02ad', 'mb03ts', 'ib01cd', 'tg01ed', 'sb03md']\n",
      "['sb10ed', 'mb04ld', 'mb01nd', 'tg01wd', 'sb10rd', 'mb03wd']\n",
      "['ab07md', 'mb04qb', 'tg01od', 'fb01qd', 'sb08hd', 'tb04cd']\n",
      "['mc03nx', 'nf01bu', 'ab07nd', 'mb01oc', 'ag8byz', 'ma02mz']\n",
      "['mc01md', 'mb03pd', 'sg03ay', 'sb01md', 'sb16ad', 'ab09ed']\n",
      "['sb02ou', 'ab01md', 'mb04fp', 'ab04md', 'sb16cy', 'ab09ax']\n",
      "['tg01hy', 'mb02qy', 'mc01vd', 'mb01vd', 'sb04rx', 'ab01od']\n",
      "['sb10jd', 'mb04qu', 'mb04zd', 'sb03md57', 'mb03td', 'mb04dp']\n",
      "['sb04rd', 'mb02sz', 'sb02ow', 'mb02uw', 'sb08dd', 'mb03md']\n",
      "['tg01hd', 'mb01zd', 'mb03jd', 'ag07bd', 'sb10pd', 'mb04tw']\n",
      "['mb04xy', 'sb04od', 'mb03ke', 'mb04jd', 'sg03bw', 'ab08mz']\n",
      "['mc01xd', 'mb01pd', 'nf01br', 'mb04ty', 'tg01az', 'ib01ad']\n",
      "['nf01bd', 'fb01rd', 'tb04ay', 'mb03ae', 'ma02hd', 'mb04su']\n",
      "['mb01ru', 'mb04qc', 'sb03or', 'nf01be', 'mb01ud', 'sb02oy']\n",
      "['tg01kz', 'sb04pd', 'mb04oy', 'mb3lzp', 'sb10wd', 'sb03oy']\n",
      "['ma02ez', 'ab13id', 'tg01pd', 'ab09jw', 'sg03bt', 'mb04di']\n",
      "['mb03lf', 'tb01id', 'mb03kc', 'de01od', 'tb01md', 'sg03bd']\n",
      "['nf01bf', 'tc04ad', 'mb03rd', 'sb04qr', 'ma02bd', 'mb03bf']\n",
      "['mb04od', 'mb01rd', 'ma02bz', 'tg01cd', 'sb02mx', 'sb04py']\n",
      "['ab13ed', 'mb04vd', 'tg01id', 'mb3oyz', 'mb01uw', 'md03bf']\n",
      "['sb08cd', 'mb05oy', 'sb03mu', 'mb03ka', 'mc03md', 'sb04ny']\n",
      "['mb03vy', 'mb02cx', 'mb02nd', 'mb03qy', 'ma01bd', 'sb10sd']\n",
      "['mb02od', 'ib01bd', 'mb04vx', 'mb03jp', 'mb02rz', 'mb03hd']\n",
      "['sb02qd', 'ab05pd', 'sb01bd', 'mb01oe', 'mb04ru', 'mb03wa']\n",
      "['mb04yw', 'mb05my', 'sb04nv', 'mb02cv', 'sb02ov', 'tf01md']\n",
      "['sb02ru', 'sg02ad', 'mb01kd', 'mb01rt', 'mb03lz', 'tg01fz']\n",
      "['sb10zd', 'ab09jv', 'tg01gd', 'de01pd', 'nf01ad', 'ud01bd']\n",
      "['mb03ai', 'ma02gz', 'tb01xz', 'tf01nd', 'sg02nd', 'md03bb']\n",
      "['tb05ad', 'mb03jz', 'sb10vd', 'mb02xd', 'nf01ay', 'sb10zp']\n",
      "['sb09md', 'ab8nxz', 'sg03bz', 'bb01ad', 'mb02jd', 'mb04bd']\n",
      "['sb02od', 'sb04mr', 'mb01sd', 'mb03fd', 'mb01rb', 'tb04bd']\n",
      "['tb01vy', 'mb04dz', 'td04ad', 'nf01bb', 'sb02md', 'dg01od']\n",
      "['sb02cx', 'sb04qu', 'ma02id', 'mb04pb', 'mb03ry', 'sb10ad']\n",
      "['tb04bw', 'sb08fd', 'ab13ax', 'tb01xd', 'mb4dpz', 'mb04tx']\n",
      "['sb03sx', 'ma02gd', 'mb01oo', 'ma02oz', 'sb02ox', 'sb04mw']\n",
      "['mb04wr', 'mb03cz', 'sb04rw', 'sb03mv', 'dg01nd', 'tg01ly']\n",
      "['mb03qv', 'mb01ot', 'mb03py', 'bb03ad', 'tc01od', 'mb04bp']\n",
      "['ab09kx', 'mb03sd', 'mb03rw', 'mb02id', 'ab13fd', 'mb03iz']\n",
      "['mb03qg', 'nf01bx', 'mb4dlz', 'sb02mt', 'ab09iy', 'sb16bd']\n",
      "['mb03ag', 'tb01wd', 'sb04qy', 'mb04qs', 'bb04ad', 'mb05od']\n",
      "['ag08by', 'sb10yd', 'mb03zd', 'ab01nd', 'tb04bv', 'mb04ny']\n",
      "['mb03od', 'nf01bw', 'mb03bd', 'sb10td', 'mb01uy', 'sb01fy']\n",
      "['mb04py', 'sb04mu', 'ma02pd', 'mc01od', 'ab05sd', 'tb01kd']\n",
      "['tb01uy', 'dg01ny', 'mb04az', 'sb03pd', 'sb10ld', 'ib01px']\n",
      "['mb03bc', 'tg01ld', 'ab08nz', 'mb04cd', 'mb04nd', 'mb04tt']\n",
      "['mb04wd', 'sb04my', 'tb01vd', 'mb03yd', 'sb02pd', 'tb01wx']\n",
      "['mc01py', 'mb01rx', 'tg01fd', 'mb03ny', 'tb01ux', 'tg01nx']\n",
      "['mb03hz', 'sb03od', 'mb03dz', 'mb03rx', 'ma02md', 'nf01bp']\n",
      "['ib01qd', 'mb04iz', 'sb04rv', 'mb04wu', 'ma02az', 'tg01hu']\n",
      "['mb04yd', 'ma02jd', 'ma02cd', 'mb03ad', 'mb04tb', 'mc01sd']\n",
      "['ag08bd', 'sb04nw', 'mb02cd', 'mb01od', 'mb02md', 'tf01my']\n",
      "['sb02rd', 'ud01mz', 'mb03ld', 'mb04ad', 'tc05ad', 'ma02es']\n",
      "['mc01sx', 'ab05od', 'mb03ya', 'ud01md', 'mc01sw', 'mb01oh']\n",
      "['ab13md', 'sb02mr', 'sg03ad', 'tb01ud', 'dg01md', 'mb04bz']\n",
      "['mb03xd', 'mb02fd', 'mb03bz', 'sb10kd', 'ab13ad', 'sb04qd']\n",
      "['ab09bx', 'td05ad', 'sb03qd', 'bd02ad', 'ab09hx', 'ud01cd']\n",
      "['mb04ed', 'ab09md', 'ab09cd', 'mb03oy', 'ab09ix', 'ab13dd']\n",
      "['mb03ab', 'ma02cz', 'ab09nd', 'sb04px', 'mb03kb', 'sb03ov']\n",
      "['mb02uv', 'ib01pd', 'nf01bs', 'tb01yd', 'ab05md', 'mb02kd']\n",
      "['ma02nz', 'md03ba', 'tg01jy', 'mb04qf', 'mb04dd', 'ue01md']\n",
      "['tb01zd', 'mb04ow', 'dk01md', 'sb03mx', 'sb06nd', 'ab08nw']\n",
      "['mb01uz', 'tg01hx', 'mb03gz', 'mb04tv', 'mc01pd', 'mc01td']\n",
      "['ab09hd', 'mb01td', 'sb02mu', 'fd01ad', 'ab13dx', 'sg02cx']\n",
      "['ma02fd', 'mb01ss', 'tg01qd', 'mb02jx', 'ab05nd', 'df01md']\n",
      "['ab08nd', 'mb02pd', 'tf01od', 'mb04ts', 'ab13bd', 'mb04iy']\n",
      "['mb04dy', 'mb05nd', 'mc03ny', 'mb02td', 'mb03nd', 'tf01pd']\n",
      "['sb03qy', 'sb16cd', 'mb01ld', 'tb03ay', 'mc01nd', 'nf01ba']\n",
      "['mb02gd', 'sb02ms', 'mb03bb', 'mb03cd', 'md03by', 'sb03my']\n",
      "['ab05rd', 'md03ad', 'ab09bd', 'sb08ny', 'sg02cv', 'ab09jx']\n",
      "['sg03bs', 'sb04md', 'sb03ot', 'ab09kd', 'sb10qd', 'mc01wd']\n",
      "['td03ay', 'mb3pyz', 'nf01bq', 'mb03yt', 'tb01px', 'ab09cx']\n",
      "['tf01qd', 'ab08ny', 'mb03xu', 'mb03ba', 'tf01rd', 'mb02vd']\n",
      "['sb01by', 'mb03ud', 'mb03za', 'mb04pu', 'mb02uu', 'mb03rz']\n",
      "['sb10md', 'mb01os', 'mc01rd', 'sb03ud', 'mb01ux', 'tb01kx']\n",
      "['mb04tu', 'tg01bd', 'mb04dl', 'ib01oy', 'sg03bu', 'sb02mv']\n",
      "['ib01py', 'ab13cd', 'sb03sy', 'mb04fd', 'tb04ad', 'ib01rd']\n",
      "['mb01wd', 'mb02ud']\n",
      "None\n",
      "\n",
      "\n"
     ]
    }
   ],
   "source": [
    "union = list(set(slicot_methods) | set(slycot_methods))\n",
    "\n",
    "print(f\"Currently there are {len(union)} routines implemented.\")\n",
    "print(\"------\")\n",
    "print(print_list_chunks(union))\n",
    "print(\"\\n\")"
   ]
  },
  {
   "cell_type": "code",
   "execution_count": 8,
   "metadata": {},
   "outputs": [
    {
     "name": "stdout",
     "output_type": "stream",
     "text": [
      "Currently there are 48 routines which are found in slicot and slycot.\n",
      "------\n",
      "['ab09bd', 'tc04ad', 'mb03rd', 'mc01td', 'ab07nd', 'sb01bd']\n",
      "['sb04md', 'sb04qd', 'sb03od', 'td04ad', 'sb02mt', 'sb02md']\n",
      "['sb10dd', 'ab05nd', 'sb10ad', 'sg02ad', 'tf01md', 'ab01nd']\n",
      "['ab08nd', 'ab13ed', 'tf01rd', 'ab09md', 'ab13bd', 'mb03vd']\n",
      "['ab13dd', 'ab09nd', 'ab08nz', 'mb05nd', 'ab09ax', 'ab09ad']\n",
      "['sb03md', 'sb10hd', 'tb03ad', 'mb03vy', 'tb01pd', 'ab05md']\n",
      "['mb03wd', 'tb05ad', 'tc01od', 'ab13fd', 'ab13md', 'sb10fd']\n",
      "['sg03ad', 'sb02od', 'tb01id', 'mb05md', 'tb04ad', 'sg03bd']\n",
      "None\n",
      "\n",
      "\n"
     ]
    }
   ],
   "source": [
    "\n",
    "intersection = list(set(slicot_methods) & set(slycot_methods))\n",
    "intersection\n",
    "\n",
    "print(f\"Currently there are {len(intersection)} routines which are found in slicot and slycot.\")\n",
    "print(\"------\")\n",
    "print(print_list_chunks(intersection))\n",
    "print(\"\\n\")"
   ]
  },
  {
   "cell_type": "code",
   "execution_count": 9,
   "metadata": {},
   "outputs": [
    {
     "data": {
      "image/png": "[encoded data removed]",
      "text/plain": [
       "<Figure size 640x480 with 1 Axes>"
      ]
     },
     "metadata": {},
     "output_type": "display_data"
    }
   ],
   "source": [
    "venn2(subsets = (len(set(slicot_methods)), \n",
    "                 len(set(slycot_methods)), \n",
    "                 len(intersection)), set_labels = ('slicot', 'slycot'))\n",
    "plt.show()"
   ]
  }
 ],
 "metadata": {
  "kernelspec": {
   "display_name": "slycot-dev",
   "language": "python",
   "name": "python3"
  },
  "language_info": {
   "codemirror_mode": {
    "name": "ipython",
    "version": 3
   },
   "file_extension": ".py",
   "mimetype": "text/x-python",
   "name": "python",
   "nbconvert_exporter": "python",
   "pygments_lexer": "ipython3",
   "version": "3.10.12"
  },
  "orig_nbformat": 4
 },
 "nbformat": 4,
 "nbformat_minor": 2
}
