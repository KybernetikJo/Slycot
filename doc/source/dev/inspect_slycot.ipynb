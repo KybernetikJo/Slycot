{
 "cells": [
  {
   "attachments": {},
   "cell_type": "markdown",
   "metadata": {},
   "source": [
    "# Inspect Slycot"
   ]
  },
  {
   "attachments": {},
   "cell_type": "markdown",
   "metadata": {},
   "source": [
    "This notebook shows how to inspect the slycot module.\n",
    "The result gives us a first insight which slicot procedures are implemented.\n",
    "In addition we get some insight about the orginisation of the module."
   ]
  },
  {
   "cell_type": "code",
   "execution_count": 1,
   "metadata": {},
   "outputs": [
    {
     "name": "stdout",
     "output_type": "stream",
     "text": [
      "0.1.dev606+g8b31df8\n"
     ]
    }
   ],
   "source": [
    "import re\n",
    "import slycot\n",
    "print(slycot.__version__)"
   ]
  },
  {
   "attachments": {},
   "cell_type": "markdown",
   "metadata": {},
   "source": [
    "## Inspect Wrapper function"
   ]
  },
  {
   "cell_type": "code",
   "execution_count": 2,
   "metadata": {},
   "outputs": [],
   "source": [
    "def get_slycot_method(sly):\n",
    "    all_attributes = dir(sly)\n",
    "    r = re.compile(\"[a-z][a-z][0-9][0-9a-z][a-z][a-z]\")\n",
    "    matched_attributes = list(filter(r.match, all_attributes)) # Read Note below\n",
    "    return matched_attributes"
   ]
  },
  {
   "cell_type": "code",
   "execution_count": 3,
   "metadata": {},
   "outputs": [],
   "source": [
    "def print_list_chunks(l, n=6):\n",
    "      \n",
    "    start = 0\n",
    "    end = len(l)\n",
    "    step = n\n",
    "    for i in range(start, end, step):\n",
    "        x = i\n",
    "        print(l[x:x+step])\n"
   ]
  },
  {
   "attachments": {},
   "cell_type": "markdown",
   "metadata": {},
   "source": [
    "### Outer wrapper"
   ]
  },
  {
   "cell_type": "code",
   "execution_count": 4,
   "metadata": {},
   "outputs": [
    {
     "name": "stdout",
     "output_type": "stream",
     "text": [
      "Currently there are 49 methods implemented.\n",
      "------\n",
      "['ab01nd', 'ab05md', 'ab05nd', 'ab07nd', 'ab08nd', 'ab08nz']\n",
      "['ab09ad', 'ab09ax', 'ab09bd', 'ab09md', 'ab09nd', 'ab13bd']\n",
      "['ab13dd', 'ab13ed', 'ab13fd', 'ab13md', 'mb03rd', 'mb03vd']\n",
      "['mb03vy', 'mb03wd', 'mb05md', 'mb05nd', 'mc01td', 'sb01bd']\n",
      "['sb02md', 'sb02mt', 'sb02od', 'sb03md', 'sb03md57', 'sb03od']\n",
      "['sb04md', 'sb04qd', 'sb10ad', 'sb10dd', 'sb10fd', 'sb10hd']\n",
      "['sg02ad', 'sg03ad', 'sg03bd', 'tb01id', 'tb01pd', 'tb03ad']\n",
      "['tb04ad', 'tb05ad', 'tc01od', 'tc04ad', 'td04ad', 'tf01md']\n",
      "['tf01rd']\n",
      "None\n"
     ]
    }
   ],
   "source": [
    "slycot_wrapper = get_slycot_method(slycot)\n",
    "\n",
    "print(f\"Currently there are {len(slycot_wrapper)} methods implemented.\")\n",
    "print(\"------\")\n",
    "print(print_list_chunks(slycot_wrapper))"
   ]
  },
  {
   "attachments": {},
   "cell_type": "markdown",
   "metadata": {},
   "source": [
    "### Inner wrapper"
   ]
  },
  {
   "cell_type": "code",
   "execution_count": 5,
   "metadata": {},
   "outputs": [
    {
     "name": "stdout",
     "output_type": "stream",
     "text": [
      "Currently there are 71 methods implemented.\n",
      "------\n",
      "['ab01nd', 'ab05md', 'ab05nd', 'ab07nd', 'ab08nd', 'ab08nz']\n",
      "['ab09ad', 'ab09ax', 'ab09bd', 'ab09md', 'ab09nd', 'ab13bd']\n",
      "['ab13dd', 'ab13ed', 'ab13fd', 'ab13md', 'ag08bd', 'mb03rd']\n",
      "['mb03vd', 'mb03vy', 'mb03wd', 'mb05md', 'mb05nd', 'mc01td']\n",
      "['sb01bd', 'sb02md', 'sb02mt_c', 'sb02mt_cl', 'sb02mt_n', 'sb02mt_nl']\n",
      "['sb02od_b', 'sb02od_c', 'sb02od_d', 'sb02od_n', 'sb03md', 'sb03od']\n",
      "['sb04md', 'sb04qd', 'sb10ad', 'sb10dd', 'sb10fd', 'sb10hd']\n",
      "['sb10jd', 'sg02ad_bb', 'sg02ad_bc', 'sg02ad_bd', 'sg02ad_bn', 'sg02ad_g']\n",
      "['sg03ad', 'sg03bd', 'tb01id', 'tb01pd', 'tb03ad_l', 'tb03ad_r']\n",
      "['tb04ad_c', 'tb04ad_r', 'tb05ad_ag', 'tb05ad_ng', 'tb05ad_nh', 'tc01od_l']\n",
      "['tc01od_r', 'tc04ad_l', 'tc04ad_r', 'td04ad_c', 'td04ad_r', 'tf01md']\n",
      "['tf01rd', 'tg01ad', 'tg01fd_ii', 'tg01fd_nn', 'tg01fd_uu']\n",
      "None\n"
     ]
    }
   ],
   "source": [
    "slycot_f2py_wrapper = get_slycot_method(slycot._wrapper)\n",
    "\n",
    "print(f\"Currently there are {len(slycot_f2py_wrapper)} methods implemented.\")\n",
    "print(\"------\")\n",
    "print(print_list_chunks(slycot_f2py_wrapper))"
   ]
  },
  {
   "attachments": {},
   "cell_type": "markdown",
   "metadata": {},
   "source": [
    "## Generate Sets for the Venn-Diagramm"
   ]
  },
  {
   "cell_type": "code",
   "execution_count": 6,
   "metadata": {},
   "outputs": [],
   "source": [
    "import matplotlib.pyplot as plt\n",
    "from matplotlib_venn import venn2"
   ]
  },
  {
   "cell_type": "code",
   "execution_count": 7,
   "metadata": {},
   "outputs": [
    {
     "name": "stdout",
     "output_type": "stream",
     "text": [
      "Currently there are 10 routines implemented in slycot_wrapper which are not in slycot_f2py_wrapper.\n",
      "------\n",
      "['tb05ad', 'sb02od', 'td04ad', 'tc04ad', 'tc01od', 'sb02mt']\n",
      "['sb03md57', 'tb04ad', 'sg02ad', 'tb03ad']\n",
      "None\n",
      "\n",
      "\n",
      "Currently there are 32 routines implemented in slycot_f2py_wrapper which are not in slycot_wrapper.\n",
      "------\n",
      "['sg02ad_bd', 'tc01od_r', 'sg02ad_bc', 'sb02od_n', 'sg02ad_g', 'tg01ad']\n",
      "['tb05ad_nh', 'sb10jd', 'td04ad_r', 'sb02mt_nl', 'tb05ad_ng', 'tb04ad_r']\n",
      "['tb03ad_r', 'td04ad_c', 'tg01fd_uu', 'ag08bd', 'tb03ad_l', 'sb02od_b']\n",
      "['sb02mt_n', 'tg01fd_nn', 'sb02mt_c', 'tb05ad_ag', 'tc04ad_r', 'sb02od_d']\n",
      "['tg01fd_ii', 'sg02ad_bb', 'tc04ad_l', 'sb02mt_cl', 'tb04ad_c', 'tc01od_l']\n",
      "['sb02od_c', 'sg02ad_bn']\n",
      "None\n",
      "\n",
      "\n",
      "Currently there are 42 routines implemented in slycot_wrapper or slycot_f2py_wrapper.\n",
      "------\n",
      "['sg02ad_bd', 'tc04ad', 'tc01od_r', 'sb02mt', 'sb02od_n', 'sg02ad_bc']\n",
      "['sg02ad_g', 'tg01ad', 'tb05ad_nh', 'sb10jd', 'td04ad_r', 'sb02mt_nl']\n",
      "['tb05ad_ng', 'td04ad', 'tb04ad_r', 'tb03ad_r', 'td04ad_c', 'tg01fd_uu']\n",
      "['ag08bd', 'tb04ad', 'sg02ad', 'sb02od_b', 'tb03ad_l', 'sb02od']\n",
      "['sb02mt_n', 'tg01fd_nn', 'tb05ad_ag', 'sb02mt_c', 'tc04ad_r', 'sb03md57']\n",
      "['tg01fd_ii', 'sb02od_d', 'sg02ad_bb', 'tc04ad_l', 'tb05ad', 'sb02mt_cl']\n",
      "['tb04ad_c', 'tc01od_l', 'sb02od_c', 'tc01od', 'sg02ad_bn', 'tb03ad']\n",
      "None\n",
      "\n",
      "\n"
     ]
    }
   ],
   "source": [
    "in_slycot_wrapper = list(set(slycot_wrapper) - set(slycot_f2py_wrapper))\n",
    "in_slycot_wrapper\n",
    "\n",
    "print(f\"Currently there are {len(in_slycot_wrapper)} routines implemented in slycot_wrapper which are not in slycot_f2py_wrapper.\")\n",
    "print(\"------\")\n",
    "print(print_list_chunks(in_slycot_wrapper))\n",
    "print(\"\\n\")\n",
    "\n",
    "in_slycot_f2py_wrapper = list(set(slycot_f2py_wrapper) - set(slycot_wrapper))\n",
    "in_slycot_f2py_wrapper\n",
    "\n",
    "print(f\"Currently there are {len(in_slycot_f2py_wrapper)} routines implemented in slycot_f2py_wrapper which are not in slycot_wrapper.\")\n",
    "print(\"------\")\n",
    "print(print_list_chunks(in_slycot_f2py_wrapper))\n",
    "print(\"\\n\")\n",
    "\n",
    "diff = list(set(slycot_f2py_wrapper) ^ set(slycot_wrapper))\n",
    "diff\n",
    "\n",
    "print(f\"Currently there are {len(diff)} routines implemented in slycot_wrapper or slycot_f2py_wrapper.\")\n",
    "print(\"------\")\n",
    "print(print_list_chunks(diff))\n",
    "print(\"\\n\")"
   ]
  },
  {
   "cell_type": "code",
   "execution_count": 8,
   "metadata": {},
   "outputs": [
    {
     "name": "stdout",
     "output_type": "stream",
     "text": [
      "Currently there are 39 routines implemented in slycot_wrapper and in slycot_f2py_wrapper.\n",
      "------\n",
      "['tf01md', 'ab13ed', 'mb05md', 'ab13fd', 'mb03vd', 'ab07nd']\n",
      "['mb03rd', 'ab09bd', 'ab05md', 'sg03bd', 'ab08nz', 'sb10hd']\n",
      "['mb05nd', 'ab09md', 'mc01td', 'tb01id', 'ab08nd', 'ab13dd']\n",
      "['sb02md', 'ab09ax', 'sb10ad', 'sb10dd', 'ab09ad', 'ab13md']\n",
      "['sb01bd', 'tf01rd', 'ab13bd', 'sg03ad', 'sb03md', 'tb01pd']\n",
      "['ab01nd', 'ab05nd', 'sb03od', 'sb04qd', 'ab09nd', 'mb03vy']\n",
      "['sb10fd', 'mb03wd', 'sb04md']\n",
      "None\n",
      "\n",
      "\n",
      "Currently there are 81 routines implemented in slycot_wrapper or in slycot_f2py_wrapper.\n",
      "------\n",
      "['sg02ad_bd', 'ab13ed', 'tc04ad', 'ab13fd', 'mb03vd', 'tc01od_r']\n",
      "['sb02mt', 'mb03rd', 'sb02od_n', 'sg02ad_g', 'tg01ad', 'tb05ad_nh']\n",
      "['ab08nz', 'sb10hd', 'td04ad', 'tb04ad_r', 'tb03ad_r', 'tb04ad']\n",
      "['ab09md', 'ab08nd', 'ab13dd', 'mc01td', 'sb02od_b', 'tb01id']\n",
      "['tb03ad_l', 'sb02md', 'sb10dd', 'ab09ad', 'sb02mt_c', 'tb05ad_ag']\n",
      "['tb01pd', 'sg02ad_bb', 'ab05nd', 'tb05ad', 'sb03od', 'sb04qd']\n",
      "['sb02od_c', 'ab09nd', 'mb03vy', 'sg02ad_bn', 'mb03wd', 'sb04md']\n",
      "['tf01md', 'mb05md', 'ab07nd', 'sg02ad_bc', 'ab09bd', 'ab05md']\n",
      "['sb10jd', 'td04ad_r', 'sb02mt_nl', 'sg03bd', 'tb05ad_ng', 'td04ad_c']\n",
      "['tg01fd_uu', 'mb05nd', 'ag08bd', 'sg02ad', 'ab09ax', 'sb02od']\n",
      "['sb10ad', 'sb02mt_n', 'tg01fd_nn', 'ab13md', 'sb01bd', 'tc04ad_r']\n",
      "['sb02od_d', 'ab13bd', 'sg03ad', 'sb03md', 'tf01rd', 'tg01fd_ii']\n",
      "['sb03md57', 'ab01nd', 'tc04ad_l', 'sb02mt_cl', 'tb04ad_c', 'tc01od_l']\n",
      "['sb10fd', 'tc01od', 'tb03ad']\n",
      "None\n",
      "\n",
      "\n"
     ]
    }
   ],
   "source": [
    "intersection = list(set(slycot_f2py_wrapper) & set(slycot_wrapper))\n",
    "intersection\n",
    "\n",
    "print(f\"Currently there are {len(intersection)} routines implemented in slycot_wrapper and in slycot_f2py_wrapper.\")\n",
    "print(\"------\")\n",
    "print(print_list_chunks(intersection))\n",
    "print(\"\\n\")\n",
    "\n",
    "union = list(set(slycot_f2py_wrapper) | set(slycot_wrapper))\n",
    "\n",
    "print(f\"Currently there are {len(union)} routines implemented in slycot_wrapper or in slycot_f2py_wrapper.\")\n",
    "print(\"------\")\n",
    "print(print_list_chunks(union))\n",
    "print(\"\\n\")"
   ]
  },
  {
   "cell_type": "code",
   "execution_count": 9,
   "metadata": {},
   "outputs": [
    {
     "data": {
      "image/png": "[encoded data removed]",
      "text/plain": [
       "<Figure size 640x480 with 1 Axes>"
      ]
     },
     "metadata": {},
     "output_type": "display_data"
    }
   ],
   "source": [
    "venn2(subsets = (len(set(slycot_wrapper)), \n",
    "                 len(set(slycot_f2py_wrapper)), \n",
    "                 len(intersection)), set_labels = ('slycot_wrapper', 'slycot_f2py_wrapper'))\n",
    "plt.show()"
   ]
  }
 ],
 "metadata": {
  "kernelspec": {
   "display_name": "slycot-dev",
   "language": "python",
   "name": "python3"
  },
  "language_info": {
   "codemirror_mode": {
    "name": "ipython",
    "version": 3
   },
   "file_extension": ".py",
   "mimetype": "text/x-python",
   "name": "python",
   "nbconvert_exporter": "python",
   "pygments_lexer": "ipython3",
   "version": "3.10.12"
  },
  "orig_nbformat": 4
 },
 "nbformat": 4,
 "nbformat_minor": 2
}
