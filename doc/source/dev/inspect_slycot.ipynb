{
 "cells": [
  {
   "attachments": {},
   "cell_type": "markdown",
   "metadata": {},
   "source": [
    "# Inspect Slycot"
   ]
  },
  {
   "attachments": {},
   "cell_type": "markdown",
   "metadata": {},
   "source": [
    "This notebook shows how to inspect the slycot module.\n",
    "The result gives us a first insight which slicot procedures are implemented.\n",
    "In addition we get some insight about the organization of the slycot module."
   ]
  },
  {
   "cell_type": "code",
   "execution_count": 40,
   "metadata": {},
   "outputs": [
    {
     "name": "stdout",
     "output_type": "stream",
     "text": [
      "0.1.dev609+g4f08655.d20230809\n"
     ]
    }
   ],
   "source": [
    "import re\n",
    "import slycot\n",
    "print(slycot.__version__)"
   ]
  },
  {
   "attachments": {},
   "cell_type": "markdown",
   "metadata": {},
   "source": [
    "##  Helper functions"
   ]
  },
  {
   "cell_type": "code",
   "execution_count": 41,
   "metadata": {},
   "outputs": [],
   "source": [
    "def print_list_chunks(routines_list, n=6):\n",
    "    \"\"\"Print list in chunks of lists.\"\"\"\n",
    "    start = 0\n",
    "    end = len(routines_list)\n",
    "    step = n\n",
    "    for i in range(start, end, step):\n",
    "        x = i\n",
    "        print(routines_list[x:x+step])"
   ]
  },
  {
   "cell_type": "code",
   "execution_count": 42,
   "metadata": {},
   "outputs": [],
   "source": [
    "def get_slycot_routines(sly):\n",
    "    all_attributes = dir(sly)\n",
    "    r = re.compile(\"[a-z][a-z][0-9][0-9a-z][a-z][a-z]\")\n",
    "    matched_attributes = list(filter(r.match, all_attributes)) # Read Note below\n",
    "    return matched_attributes"
   ]
  },
  {
   "attachments": {},
   "cell_type": "markdown",
   "metadata": {},
   "source": [
    "## Inspect Wrapper function"
   ]
  },
  {
   "attachments": {},
   "cell_type": "markdown",
   "metadata": {},
   "source": [
    "### Outer wrapper"
   ]
  },
  {
   "cell_type": "code",
   "execution_count": 43,
   "metadata": {},
   "outputs": [
    {
     "name": "stdout",
     "output_type": "stream",
     "text": [
      "There are currently 49 routines that are found in slycot.\n",
      "------\n",
      "['ab01nd', 'ab05md', 'ab05nd', 'ab07nd', 'ab08nd', 'ab08nz']\n",
      "['ab09ad', 'ab09ax', 'ab09bd', 'ab09md', 'ab09nd', 'ab13bd']\n",
      "['ab13dd', 'ab13ed', 'ab13fd', 'ab13md', 'mb03rd', 'mb03vd']\n",
      "['mb03vy', 'mb03wd', 'mb05md', 'mb05nd', 'mc01td', 'sb01bd']\n",
      "['sb02md', 'sb02mt', 'sb02od', 'sb03md', 'sb03md57', 'sb03od']\n",
      "['sb04md', 'sb04qd', 'sb10ad', 'sb10dd', 'sb10fd', 'sb10hd']\n",
      "['sg02ad', 'sg03ad', 'sg03bd', 'tb01id', 'tb01pd', 'tb03ad']\n",
      "['tb04ad', 'tb05ad', 'tc01od', 'tc04ad', 'td04ad', 'tf01md']\n",
      "['tf01rd']\n",
      "None\n"
     ]
    }
   ],
   "source": [
    "slycot_wrapper = get_slycot_routines(slycot)\n",
    "\n",
    "print(f\"There are currently {len(slycot_wrapper)} routines that are found in slycot.\")\n",
    "print(\"------\")\n",
    "print(print_list_chunks(slycot_wrapper))"
   ]
  },
  {
   "attachments": {},
   "cell_type": "markdown",
   "metadata": {},
   "source": [
    "### Inner wrapper"
   ]
  },
  {
   "cell_type": "code",
   "execution_count": 44,
   "metadata": {},
   "outputs": [
    {
     "name": "stdout",
     "output_type": "stream",
     "text": [
      "There are currently 71 routines that are found in slycot._wrapper.\n",
      "------\n",
      "['ab01nd', 'ab05md', 'ab05nd', 'ab07nd', 'ab08nd', 'ab08nz']\n",
      "['ab09ad', 'ab09ax', 'ab09bd', 'ab09md', 'ab09nd', 'ab13bd']\n",
      "['ab13dd', 'ab13ed', 'ab13fd', 'ab13md', 'ag08bd', 'mb03rd']\n",
      "['mb03vd', 'mb03vy', 'mb03wd', 'mb05md', 'mb05nd', 'mc01td']\n",
      "['sb01bd', 'sb02md', 'sb02mt_c', 'sb02mt_cl', 'sb02mt_n', 'sb02mt_nl']\n",
      "['sb02od_b', 'sb02od_c', 'sb02od_d', 'sb02od_n', 'sb03md', 'sb03od']\n",
      "['sb04md', 'sb04qd', 'sb10ad', 'sb10dd', 'sb10fd', 'sb10hd']\n",
      "['sb10jd', 'sg02ad_bb', 'sg02ad_bc', 'sg02ad_bd', 'sg02ad_bn', 'sg02ad_g']\n",
      "['sg03ad', 'sg03bd', 'tb01id', 'tb01pd', 'tb03ad_l', 'tb03ad_r']\n",
      "['tb04ad_c', 'tb04ad_r', 'tb05ad_ag', 'tb05ad_ng', 'tb05ad_nh', 'tc01od_l']\n",
      "['tc01od_r', 'tc04ad_l', 'tc04ad_r', 'td04ad_c', 'td04ad_r', 'tf01md']\n",
      "['tf01rd', 'tg01ad', 'tg01fd_ii', 'tg01fd_nn', 'tg01fd_uu']\n",
      "None\n"
     ]
    }
   ],
   "source": [
    "slycot_f2py_wrapper = get_slycot_routines(slycot._wrapper)\n",
    "\n",
    "print(f\"There are currently {len(slycot_f2py_wrapper)} routines that are found in slycot._wrapper.\")\n",
    "print(\"------\")\n",
    "print(print_list_chunks(slycot_f2py_wrapper))"
   ]
  },
  {
   "attachments": {},
   "cell_type": "markdown",
   "metadata": {},
   "source": [
    "## Generate Sets for the Venn-Diagramm"
   ]
  },
  {
   "cell_type": "code",
   "execution_count": 45,
   "metadata": {},
   "outputs": [],
   "source": [
    "import matplotlib.pyplot as plt\n",
    "from matplotlib_venn import venn2"
   ]
  },
  {
   "cell_type": "code",
   "execution_count": 46,
   "metadata": {},
   "outputs": [
    {
     "name": "stdout",
     "output_type": "stream",
     "text": [
      "There are currently 10 routines that found in slycot not in slycot._wrapper.\n",
      "------\n",
      "['sb02od', 'tb05ad', 'sb02mt', 'tb04ad', 'sb03md57', 'sg02ad']\n",
      "['tc01od', 'tb03ad', 'td04ad', 'tc04ad']\n",
      "None\n",
      "\n",
      "\n",
      "There are currently 32 routines that are found in slycot._wrapper not in slycot.\n",
      "------\n",
      "['tb05ad_ag', 'sb02od_b', 'td04ad_c', 'tg01ad', 'sb02mt_n', 'sg02ad_bc']\n",
      "['sb02od_n', 'tb05ad_nh', 'tg01fd_ii', 'ag08bd', 'tg01fd_nn', 'tc04ad_l']\n",
      "['sg02ad_bd', 'sb10jd', 'tb05ad_ng', 'sb02od_d', 'tb03ad_r', 'tg01fd_uu']\n",
      "['tc04ad_r', 'tb04ad_r', 'tb04ad_c', 'sb02mt_cl', 'sg02ad_bb', 'tc01od_l']\n",
      "['td04ad_r', 'sb02mt_nl', 'tc01od_r', 'sg02ad_g', 'tb03ad_l', 'sb02od_c']\n",
      "['sg02ad_bn', 'sb02mt_c']\n",
      "None\n",
      "\n",
      "\n"
     ]
    }
   ],
   "source": [
    "not_in_slycot_f2py_wrapper = list(set(slycot_wrapper) - set(slycot_f2py_wrapper))\n",
    "not_in_slycot_f2py_wrapper\n",
    "\n",
    "print(f\"There are currently {len(not_in_slycot_f2py_wrapper)} routines that found in slycot not in slycot._wrapper.\")\n",
    "print(\"------\")\n",
    "print(print_list_chunks(not_in_slycot_f2py_wrapper))\n",
    "print(\"\\n\")\n",
    "\n",
    "not_in_slycot_wrapper = list(set(slycot_f2py_wrapper) - set(slycot_wrapper))\n",
    "not_in_slycot_wrapper\n",
    "\n",
    "print(f\"There are currently {len(not_in_slycot_wrapper)} routines that are found in slycot._wrapper not in slycot.\")\n",
    "print(\"------\")\n",
    "print(print_list_chunks(not_in_slycot_wrapper))\n",
    "print(\"\\n\")"
   ]
  },
  {
   "cell_type": "code",
   "execution_count": 47,
   "metadata": {},
   "outputs": [
    {
     "name": "stdout",
     "output_type": "stream",
     "text": [
      "There are currently 81 routines that are found in slycot or in slycot._wrapper. (union)\n",
      "------\n",
      "['tb05ad_ag', 'sb02md', 'sb03md', 'ab08nd', 'tg01fd_ii', 'tb05ad_nh']\n",
      "['sb04md', 'ag08bd', 'tb01pd', 'mb03vd', 'sb03md57', 'ab13bd']\n",
      "['sb02mt', 'tc04ad', 'ab09nd', 'tc04ad_l', 'sb10jd', 'tf01rd']\n",
      "['tb05ad_ng', 'sb02od_d', 'ab05md', 'ab07nd', 'sb04qd', 'ab08nz']\n",
      "['tb04ad', 'mb05nd', 'ab09bd', 'tg01fd_uu', 'mb03vy', 'td04ad']\n",
      "['ab09ad', 'sb10dd', 'sb10hd', 'sg02ad_bb', 'sg03ad', 'tc01od_l']\n",
      "['td04ad_r', 'ab13md', 'tc01od', 'mb03wd', 'sb02mt_nl', 'tc01od_r']\n",
      "['tb03ad_l', 'tb05ad', 'tf01md', 'sb02od_c', 'sb01bd', 'mc01td']\n",
      "['sb02mt_c', 'sb02od_b', 'td04ad_c', 'tg01ad', 'sb02mt_n', 'sg02ad_bc']\n",
      "['sb02od_n', 'sg03bd', 'sg02ad', 'tb03ad', 'tb01id', 'mb05md']\n",
      "['tg01fd_nn', 'sg02ad_bd', 'ab13dd', 'tb03ad_r', 'ab09ax', 'ab05nd']\n",
      "['mb03rd', 'sb10ad', 'tc04ad_r', 'ab01nd', 'tb04ad_r', 'ab09md']\n",
      "['tb04ad_c', 'sb02mt_cl', 'ab13fd', 'ab13ed', 'sb03od', 'sg02ad_g']\n",
      "['sb02od', 'sb10fd', 'sg02ad_bn']\n",
      "None\n",
      "\n",
      "\n",
      "There are currently 39 routines that are found in slycot and in slycot._wrapper. (intersection)\n",
      "------\n",
      "['sb02md', 'sb03md', 'ab08nd', 'sb04md', 'sg03bd', 'tb01pd']\n",
      "['mb03vd', 'tb01id', 'ab13bd', 'mb05md', 'ab09nd', 'ab13dd']\n",
      "['tf01rd', 'ab05md', 'ab07nd', 'ab09ax', 'ab08nz', 'sb04qd']\n",
      "['ab05nd', 'mb03rd', 'mb05nd', 'ab09bd', 'sb10ad', 'mb03vy']\n",
      "['ab01nd', 'ab09md', 'ab09ad', 'sb10dd', 'sb10hd', 'sg03ad']\n",
      "['ab13md', 'ab13fd', 'ab13ed', 'mb03wd', 'sb03od', 'tf01md']\n",
      "['sb01bd', 'sb10fd', 'mc01td']\n",
      "None\n",
      "\n",
      "\n"
     ]
    }
   ],
   "source": [
    "union = list(set(slycot_f2py_wrapper) | set(slycot_wrapper))\n",
    "\n",
    "print(f\"There are currently {len(union)} routines that are found in slycot or in slycot._wrapper. (union)\")\n",
    "print(\"------\")\n",
    "print(print_list_chunks(union))\n",
    "print(\"\\n\")\n",
    "\n",
    "\n",
    "intersection = list(set(slycot_f2py_wrapper) & set(slycot_wrapper))\n",
    "intersection\n",
    "\n",
    "print(f\"There are currently {len(intersection)} routines that are found in slycot and in slycot._wrapper. (intersection)\")\n",
    "print(\"------\")\n",
    "print(print_list_chunks(intersection))\n",
    "print(\"\\n\")"
   ]
  },
  {
   "cell_type": "code",
   "execution_count": 48,
   "metadata": {},
   "outputs": [
    {
     "data": {
      "image/png": "[encoded data removed]",
      "text/plain": [
       "<Figure size 640x480 with 1 Axes>"
      ]
     },
     "metadata": {},
     "output_type": "display_data"
    }
   ],
   "source": [
    "venn2(subsets = (len(set(slycot_wrapper)), \n",
    "                 len(set(slycot_f2py_wrapper)), \n",
    "                 len(intersection)), set_labels = ('slycot', 'slycot._wrapper'))\n",
    "plt.show()"
   ]
  }
 ],
 "metadata": {
  "kernelspec": {
   "display_name": "slycot-dev",
   "language": "python",
   "name": "python3"
  },
  "language_info": {
   "codemirror_mode": {
    "name": "ipython",
    "version": 3
   },
   "file_extension": ".py",
   "mimetype": "text/x-python",
   "name": "python",
   "nbconvert_exporter": "python",
   "pygments_lexer": "ipython3",
   "version": "3.10.12"
  },
  "orig_nbformat": 4
 },
 "nbformat": 4,
 "nbformat_minor": 2
}
