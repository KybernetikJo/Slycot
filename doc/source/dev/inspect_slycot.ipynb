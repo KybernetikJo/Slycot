{
 "cells": [
  {
   "attachments": {},
   "cell_type": "markdown",
   "metadata": {},
   "source": [
    "# Inspect Slycot"
   ]
  },
  {
   "attachments": {},
   "cell_type": "markdown",
   "metadata": {},
   "source": [
    "This notebook shows how to inspect the slycot module.\n",
    "The result gives us a first insight which slicot procedures are implemented.\n",
    "In addition we get some insight about the organization of the slycot module."
   ]
  },
  {
   "cell_type": "code",
   "execution_count": 1,
   "metadata": {},
   "outputs": [
    {
     "name": "stdout",
     "output_type": "stream",
     "text": [
      "0.5.5.dev75+g8cd8497\n"
     ]
    }
   ],
   "source": [
    "import re\n",
    "import slycot\n",
    "print(slycot.__version__)"
   ]
  },
  {
   "attachments": {},
   "cell_type": "markdown",
   "metadata": {},
   "source": [
    "##  Helper functions"
   ]
  },
  {
   "cell_type": "code",
   "execution_count": 2,
   "metadata": {},
   "outputs": [],
   "source": [
    "def print_list_chunks(routines_list, n=6):\n",
    "    \"\"\"Print list in chunks of lists.\"\"\"\n",
    "    start = 0\n",
    "    end = len(routines_list)\n",
    "    step = n\n",
    "    for i in range(start, end, step):\n",
    "        x = i\n",
    "        print(routines_list[x:x+step])"
   ]
  },
  {
   "cell_type": "code",
   "execution_count": 3,
   "metadata": {},
   "outputs": [],
   "source": [
    "def get_slycot_routines(sly):\n",
    "    all_attributes = dir(sly)\n",
    "    r = re.compile(\"[a-z][a-z][0-9][0-9a-z][a-z][a-z]\")\n",
    "    matched_attributes = list(filter(r.match, all_attributes)) # Read Note below\n",
    "    return matched_attributes"
   ]
  },
  {
   "attachments": {},
   "cell_type": "markdown",
   "metadata": {},
   "source": [
    "## Inspect Wrapper function"
   ]
  },
  {
   "attachments": {},
   "cell_type": "markdown",
   "metadata": {},
   "source": [
    "### Outer wrapper"
   ]
  },
  {
   "cell_type": "code",
   "execution_count": 4,
   "metadata": {},
   "outputs": [
    {
     "name": "stdout",
     "output_type": "stream",
     "text": [
      "There are currently 56 routines that are found in slycot.\n",
      "------\n",
      "['ab01nd', 'ab04md', 'ab05md', 'ab05nd', 'ab07nd', 'ab08nd']\n",
      "['ab08nz', 'ab09ad', 'ab09ax', 'ab09bd', 'ab09md', 'ab09nd']\n",
      "['ab13bd', 'ab13dd', 'ab13ed', 'ab13fd', 'ab13md', 'ag08bd']\n",
      "['mb02ed', 'mb03rd', 'mb03vd', 'mb03vy', 'mb03wd', 'mb05md']\n",
      "['mb05nd', 'mc01td', 'sb01bd', 'sb02md', 'sb02mt', 'sb02od']\n",
      "['sb03md', 'sb03md57', 'sb03od', 'sb04md', 'sb04qd', 'sb10ad']\n",
      "['sb10dd', 'sb10fd', 'sb10hd', 'sb10jd', 'sb10yd', 'sg02ad']\n",
      "['sg03ad', 'sg03bd', 'tb01id', 'tb01pd', 'tb03ad', 'tb04ad']\n",
      "['tb05ad', 'tc01od', 'tc04ad', 'td04ad', 'tf01md', 'tf01rd']\n",
      "['tg01ad', 'tg01fd']\n",
      "None\n"
     ]
    }
   ],
   "source": [
    "slycot_wrapper = get_slycot_routines(slycot)\n",
    "\n",
    "print(f\"There are currently {len(slycot_wrapper)} routines that are found in slycot.\")\n",
    "print(\"------\")\n",
    "print(print_list_chunks(slycot_wrapper))"
   ]
  },
  {
   "attachments": {},
   "cell_type": "markdown",
   "metadata": {},
   "source": [
    "### Inner wrapper"
   ]
  },
  {
   "cell_type": "code",
   "execution_count": 5,
   "metadata": {},
   "outputs": [
    {
     "name": "stdout",
     "output_type": "stream",
     "text": [
      "There are currently 74 routines that are found in slycot._wrapper.\n",
      "------\n",
      "['ab01nd', 'ab04md', 'ab05md', 'ab05nd', 'ab07nd', 'ab08nd']\n",
      "['ab08nz', 'ab09ad', 'ab09ax', 'ab09bd', 'ab09md', 'ab09nd']\n",
      "['ab13bd', 'ab13dd', 'ab13ed', 'ab13fd', 'ab13md', 'ag08bd']\n",
      "['mb02ed', 'mb03rd', 'mb03vd', 'mb03vy', 'mb03wd', 'mb05md']\n",
      "['mb05nd', 'mc01td', 'sb01bd', 'sb02md', 'sb02mt_c', 'sb02mt_cl']\n",
      "['sb02mt_n', 'sb02mt_nl', 'sb02od_b', 'sb02od_c', 'sb02od_d', 'sb02od_n']\n",
      "['sb03md', 'sb03od', 'sb04md', 'sb04qd', 'sb10ad', 'sb10dd']\n",
      "['sb10fd', 'sb10hd', 'sb10jd', 'sb10yd', 'sg02ad_bb', 'sg02ad_bc']\n",
      "['sg02ad_bd', 'sg02ad_bn', 'sg02ad_g', 'sg03ad', 'sg03bd', 'tb01id']\n",
      "['tb01pd', 'tb03ad_l', 'tb03ad_r', 'tb04ad_c', 'tb04ad_r', 'tb05ad_ag']\n",
      "['tb05ad_ng', 'tb05ad_nh', 'tc01od_l', 'tc01od_r', 'tc04ad_l', 'tc04ad_r']\n",
      "['td04ad_c', 'td04ad_r', 'tf01md', 'tf01rd', 'tg01ad', 'tg01fd_ii']\n",
      "['tg01fd_nn', 'tg01fd_uu']\n",
      "None\n"
     ]
    }
   ],
   "source": [
    "slycot_f2py_wrapper = get_slycot_routines(slycot._wrapper)\n",
    "\n",
    "print(f\"There are currently {len(slycot_f2py_wrapper)} routines that are found in slycot._wrapper.\")\n",
    "print(\"------\")\n",
    "print(print_list_chunks(slycot_f2py_wrapper))"
   ]
  },
  {
   "attachments": {},
   "cell_type": "markdown",
   "metadata": {},
   "source": [
    "## Generate Sets for the Venn-Diagramm"
   ]
  },
  {
   "cell_type": "code",
   "execution_count": 6,
   "metadata": {},
   "outputs": [],
   "source": [
    "import matplotlib.pyplot as plt\n",
    "from matplotlib_venn import venn2"
   ]
  },
  {
   "cell_type": "code",
   "execution_count": 7,
   "metadata": {},
   "outputs": [
    {
     "name": "stdout",
     "output_type": "stream",
     "text": [
      "There are currently 11 routines that found in slycot not in slycot._wrapper.\n",
      "------\n",
      "['sb02od', 'sb02mt', 'sg02ad', 'tg01fd', 'td04ad', 'tb03ad']\n",
      "['sb03md57', 'tc01od', 'tc04ad', 'tb04ad', 'tb05ad']\n",
      "None\n",
      "\n",
      "\n",
      "There are currently 29 routines that are found in slycot._wrapper not in slycot.\n",
      "------\n",
      "['sb02od_n', 'sg02ad_bd', 'sb02od_d', 'sg02ad_g', 'tb04ad_r', 'sg02ad_bn']\n",
      "['tb05ad_ag', 'tc01od_l', 'sb02mt_c', 'sb02mt_cl', 'tb03ad_l', 'sb02od_c']\n",
      "['tc04ad_r', 'sb02mt_n', 'tb05ad_nh', 'sb02od_b', 'tg01fd_uu', 'tg01fd_nn']\n",
      "['tb03ad_r', 'tc01od_r', 'td04ad_r', 'tb04ad_c', 'sb02mt_nl', 'tc04ad_l']\n",
      "['tg01fd_ii', 'sg02ad_bc', 'tb05ad_ng', 'td04ad_c', 'sg02ad_bb']\n",
      "None\n",
      "\n",
      "\n"
     ]
    }
   ],
   "source": [
    "not_in_slycot_f2py_wrapper = list(set(slycot_wrapper) - set(slycot_f2py_wrapper))\n",
    "not_in_slycot_f2py_wrapper\n",
    "\n",
    "print(f\"There are currently {len(not_in_slycot_f2py_wrapper)} routines that found in slycot not in slycot._wrapper.\")\n",
    "print(\"------\")\n",
    "print(print_list_chunks(not_in_slycot_f2py_wrapper))\n",
    "print(\"\\n\")\n",
    "\n",
    "not_in_slycot_wrapper = list(set(slycot_f2py_wrapper) - set(slycot_wrapper))\n",
    "not_in_slycot_wrapper\n",
    "\n",
    "print(f\"There are currently {len(not_in_slycot_wrapper)} routines that are found in slycot._wrapper not in slycot.\")\n",
    "print(\"------\")\n",
    "print(print_list_chunks(not_in_slycot_wrapper))\n",
    "print(\"\\n\")"
   ]
  },
  {
   "cell_type": "code",
   "execution_count": 8,
   "metadata": {},
   "outputs": [
    {
     "name": "stdout",
     "output_type": "stream",
     "text": [
      "There are currently 85 routines that are found in slycot or in slycot._wrapper. (union)\n",
      "------\n",
      "['ab04md', 'sg02ad_bd', 'mb02ed', 'tb04ad_r', 'sg02ad_g', 'sb04qd']\n",
      "['sg02ad_bn', 'tf01md', 'td04ad', 'tb05ad_ag', 'tb01pd', 'tc04ad']\n",
      "['tb01id', 'sb04md', 'sb02mt_cl', 'tc04ad_r', 'sb02od_b', 'tg01fd_uu']\n",
      "['mb05md', 'tg01fd_nn', 'sb02mt', 'ab09ad', 'ab13md', 'mc01td']\n",
      "['tg01fd', 'sg03ad', 'sb10hd', 'td04ad_r', 'ab09bd', 'sb01bd']\n",
      "['tc04ad_l', 'tg01fd_ii', 'sb10fd', 'ab13bd', 'tb03ad', 'sg02ad_bc']\n",
      "['ab09ax', 'ab09nd', 'sg02ad_bb', 'tb05ad', 'ab13fd', 'sb03md']\n",
      "['sb02od_n', 'sb02od_d', 'ab08nd', 'tc01od_l', 'ab09md', 'sb02mt_c']\n",
      "['sb10dd', 'tb03ad_l', 'ab08nz', 'sb02od_c', 'sg02ad', 'sb02mt_n']\n",
      "['sg03bd', 'tb05ad_nh', 'sb03md57', 'tc01od', 'sb03od', 'mb03vd']\n",
      "['sb10yd', 'tf01rd', 'sb02od', 'sb10ad', 'ab01nd', 'sb02md']\n",
      "['tg01ad', 'tb03ad_r', 'sb10jd', 'mb05nd', 'mb03rd', 'mb03vy']\n",
      "['tc01od_r', 'tb04ad_c', 'ab05nd', 'sb02mt_nl', 'mb03wd', 'ab13dd']\n",
      "['ab07nd', 'ab05md', 'ag08bd', 'ab13ed', 'tb05ad_ng', 'tb04ad']\n",
      "['td04ad_c']\n",
      "None\n",
      "\n",
      "\n",
      "There are currently 45 routines that are found in slycot and in slycot._wrapper. (intersection)\n",
      "------\n",
      "['ab04md', 'ab13fd', 'sb03md', 'mb02ed', 'ab08nd', 'sb04qd']\n",
      "['tf01md', 'tb01pd', 'tb01id', 'ab09md', 'sb04md', 'sb10dd']\n",
      "['ab08nz', 'sg03bd', 'sb03od', 'sb10yd', 'mb03vd', 'mb05md']\n",
      "['tf01rd', 'sb10ad', 'ab09ad', 'ab01nd', 'ab13md', 'mc01td']\n",
      "['sb02md', 'tg01ad', 'sg03ad', 'sb10jd', 'mb05nd', 'mb03rd']\n",
      "['mb03vy', 'sb10hd', 'ab05nd', 'ab09bd', 'mb03wd', 'ab13dd']\n",
      "['sb01bd', 'ab07nd', 'ab05md', 'sb10fd', 'ab13bd', 'ag08bd']\n",
      "['ab13ed', 'ab09ax', 'ab09nd']\n",
      "None\n",
      "\n",
      "\n"
     ]
    }
   ],
   "source": [
    "union = list(set(slycot_f2py_wrapper) | set(slycot_wrapper))\n",
    "\n",
    "print(f\"There are currently {len(union)} routines that are found in slycot or in slycot._wrapper. (union)\")\n",
    "print(\"------\")\n",
    "print(print_list_chunks(union))\n",
    "print(\"\\n\")\n",
    "\n",
    "\n",
    "intersection = list(set(slycot_f2py_wrapper) & set(slycot_wrapper))\n",
    "intersection\n",
    "\n",
    "print(f\"There are currently {len(intersection)} routines that are found in slycot and in slycot._wrapper. (intersection)\")\n",
    "print(\"------\")\n",
    "print(print_list_chunks(intersection))\n",
    "print(\"\\n\")"
   ]
  },
  {
   "cell_type": "code",
   "execution_count": 9,
   "metadata": {},
   "outputs": [
    {
     "data": {
      "image/png": "[encoded data removed]",
      "text/plain": [
       "<Figure size 640x480 with 1 Axes>"
      ]
     },
     "metadata": {},
     "output_type": "display_data"
    }
   ],
   "source": [
    "venn2(subsets = (len(set(slycot_wrapper)), \n",
    "                 len(set(slycot_f2py_wrapper)), \n",
    "                 len(intersection)), set_labels = ('slycot', 'slycot._wrapper'))\n",
    "plt.show()"
   ]
  }
 ],
 "metadata": {
  "kernelspec": {
   "display_name": "slycot-dev",
   "language": "python",
   "name": "python3"
  },
  "language_info": {
   "codemirror_mode": {
    "name": "ipython",
    "version": 3
   },
   "file_extension": ".py",
   "mimetype": "text/x-python",
   "name": "python",
   "nbconvert_exporter": "python",
   "pygments_lexer": "ipython3",
   "version": "3.10.12"
  },
  "orig_nbformat": 4
 },
 "nbformat": 4,
 "nbformat_minor": 2
}
