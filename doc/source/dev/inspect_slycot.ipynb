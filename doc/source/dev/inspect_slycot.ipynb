{
 "cells": [
  {
   "attachments": {},
   "cell_type": "markdown",
   "metadata": {},
   "source": [
    "# Inspect Slycot"
   ]
  },
  {
   "attachments": {},
   "cell_type": "markdown",
   "metadata": {},
   "source": [
    "This notebook shows how to inspect the slycot module.\n",
    "The result gives us a first insight which slicot procedures are implemented.\n",
    "In addition we get some insight about the organization of the slycot module."
   ]
  },
  {
   "cell_type": "code",
   "execution_count": 1,
   "metadata": {},
   "outputs": [
    {
     "name": "stdout",
     "output_type": "stream",
     "text": [
      "0.5.5.dev49+gfb26217.d20230826\n"
     ]
    }
   ],
   "source": [
    "import re\n",
    "import slycot\n",
    "print(slycot.__version__)"
   ]
  },
  {
   "attachments": {},
   "cell_type": "markdown",
   "metadata": {},
   "source": [
    "##  Helper functions"
   ]
  },
  {
   "cell_type": "code",
   "execution_count": 2,
   "metadata": {},
   "outputs": [],
   "source": [
    "def print_list_chunks(routines_list, n=6):\n",
    "    \"\"\"Print list in chunks of lists.\"\"\"\n",
    "    start = 0\n",
    "    end = len(routines_list)\n",
    "    step = n\n",
    "    for i in range(start, end, step):\n",
    "        x = i\n",
    "        print(routines_list[x:x+step])"
   ]
  },
  {
   "cell_type": "code",
   "execution_count": 3,
   "metadata": {},
   "outputs": [],
   "source": [
    "def get_slycot_routines(sly):\n",
    "    all_attributes = dir(sly)\n",
    "    r = re.compile(\"[a-z][a-z][0-9][0-9a-z][a-z][a-z]\")\n",
    "    matched_attributes = list(filter(r.match, all_attributes)) # Read Note below\n",
    "    return matched_attributes"
   ]
  },
  {
   "attachments": {},
   "cell_type": "markdown",
   "metadata": {},
   "source": [
    "## Inspect Wrapper function"
   ]
  },
  {
   "attachments": {},
   "cell_type": "markdown",
   "metadata": {},
   "source": [
    "### Outer wrapper"
   ]
  },
  {
   "cell_type": "code",
   "execution_count": 4,
   "metadata": {},
   "outputs": [
    {
     "name": "stdout",
     "output_type": "stream",
     "text": [
      "There are currently 52 routines that are found in slycot.\n",
      "------\n",
      "['ab01nd', 'ab04md', 'ab05md', 'ab05nd', 'ab07nd', 'ab08nd']\n",
      "['ab08nz', 'ab09ad', 'ab09ax', 'ab09bd', 'ab09md', 'ab09nd']\n",
      "['ab13bd', 'ab13dd', 'ab13ed', 'ab13fd', 'ab13md', 'ag08bd']\n",
      "['mb03rd', 'mb03vd', 'mb03vy', 'mb03wd', 'mb05md', 'mb05nd']\n",
      "['mc01td', 'sb01bd', 'sb02md', 'sb02mt', 'sb02od', 'sb03md']\n",
      "['sb03md57', 'sb03od', 'sb04md', 'sb04qd', 'sb10ad', 'sb10dd']\n",
      "['sb10fd', 'sb10hd', 'sb10yd', 'sg02ad', 'sg03ad', 'sg03bd']\n",
      "['tb01id', 'tb01pd', 'tb03ad', 'tb04ad', 'tb05ad', 'tc01od']\n",
      "['tc04ad', 'td04ad', 'tf01md', 'tf01rd']\n",
      "None\n"
     ]
    }
   ],
   "source": [
    "slycot_wrapper = get_slycot_routines(slycot)\n",
    "\n",
    "print(f\"There are currently {len(slycot_wrapper)} routines that are found in slycot.\")\n",
    "print(\"------\")\n",
    "print(print_list_chunks(slycot_wrapper))"
   ]
  },
  {
   "attachments": {},
   "cell_type": "markdown",
   "metadata": {},
   "source": [
    "### Inner wrapper"
   ]
  },
  {
   "cell_type": "code",
   "execution_count": 5,
   "metadata": {},
   "outputs": [
    {
     "name": "stdout",
     "output_type": "stream",
     "text": [
      "There are currently 73 routines that are found in slycot._wrapper.\n",
      "------\n",
      "['ab01nd', 'ab04md', 'ab05md', 'ab05nd', 'ab07nd', 'ab08nd']\n",
      "['ab08nz', 'ab09ad', 'ab09ax', 'ab09bd', 'ab09md', 'ab09nd']\n",
      "['ab13bd', 'ab13dd', 'ab13ed', 'ab13fd', 'ab13md', 'ag08bd']\n",
      "['mb03rd', 'mb03vd', 'mb03vy', 'mb03wd', 'mb05md', 'mb05nd']\n",
      "['mc01td', 'sb01bd', 'sb02md', 'sb02mt_c', 'sb02mt_cl', 'sb02mt_n']\n",
      "['sb02mt_nl', 'sb02od_b', 'sb02od_c', 'sb02od_d', 'sb02od_n', 'sb03md']\n",
      "['sb03od', 'sb04md', 'sb04qd', 'sb10ad', 'sb10dd', 'sb10fd']\n",
      "['sb10hd', 'sb10jd', 'sb10yd', 'sg02ad_bb', 'sg02ad_bc', 'sg02ad_bd']\n",
      "['sg02ad_bn', 'sg02ad_g', 'sg03ad', 'sg03bd', 'tb01id', 'tb01pd']\n",
      "['tb03ad_l', 'tb03ad_r', 'tb04ad_c', 'tb04ad_r', 'tb05ad_ag', 'tb05ad_ng']\n",
      "['tb05ad_nh', 'tc01od_l', 'tc01od_r', 'tc04ad_l', 'tc04ad_r', 'td04ad_c']\n",
      "['td04ad_r', 'tf01md', 'tf01rd', 'tg01ad', 'tg01fd_ii', 'tg01fd_nn']\n",
      "['tg01fd_uu']\n",
      "None\n"
     ]
    }
   ],
   "source": [
    "slycot_f2py_wrapper = get_slycot_routines(slycot._wrapper)\n",
    "\n",
    "print(f\"There are currently {len(slycot_f2py_wrapper)} routines that are found in slycot._wrapper.\")\n",
    "print(\"------\")\n",
    "print(print_list_chunks(slycot_f2py_wrapper))"
   ]
  },
  {
   "attachments": {},
   "cell_type": "markdown",
   "metadata": {},
   "source": [
    "## Generate Sets for the Venn-Diagramm"
   ]
  },
  {
   "cell_type": "code",
   "execution_count": 6,
   "metadata": {},
   "outputs": [],
   "source": [
    "import matplotlib.pyplot as plt\n",
    "from matplotlib_venn import venn2"
   ]
  },
  {
   "cell_type": "code",
   "execution_count": 7,
   "metadata": {},
   "outputs": [
    {
     "name": "stdout",
     "output_type": "stream",
     "text": [
      "There are currently 10 routines that found in slycot not in slycot._wrapper.\n",
      "------\n",
      "['tb05ad', 'td04ad', 'tc01od', 'tc04ad', 'sb02od', 'sg02ad']\n",
      "['tb04ad', 'tb03ad', 'sb02mt', 'sb03md57']\n",
      "None\n",
      "\n",
      "\n",
      "There are currently 31 routines that are found in slycot._wrapper not in slycot.\n",
      "------\n",
      "['tb03ad_l', 'sb02mt_n', 'tb04ad_r', 'sg02ad_bb', 'sb02od_d', 'sb10jd']\n",
      "['tc01od_r', 'sb02mt_nl', 'tg01fd_nn', 'tg01ad', 'sb02od_n', 'tc04ad_r']\n",
      "['tb03ad_r', 'sg02ad_bc', 'tc04ad_l', 'sb02mt_c', 'sg02ad_bd', 'sb02od_b']\n",
      "['sg02ad_g', 'sb02od_c', 'tg01fd_uu', 'td04ad_c', 'tb05ad_ng', 'tb05ad_nh']\n",
      "['sg02ad_bn', 'tb04ad_c', 'sb02mt_cl', 'tb05ad_ag', 'tc01od_l', 'tg01fd_ii']\n",
      "['td04ad_r']\n",
      "None\n",
      "\n",
      "\n"
     ]
    }
   ],
   "source": [
    "not_in_slycot_f2py_wrapper = list(set(slycot_wrapper) - set(slycot_f2py_wrapper))\n",
    "not_in_slycot_f2py_wrapper\n",
    "\n",
    "print(f\"There are currently {len(not_in_slycot_f2py_wrapper)} routines that found in slycot not in slycot._wrapper.\")\n",
    "print(\"------\")\n",
    "print(print_list_chunks(not_in_slycot_f2py_wrapper))\n",
    "print(\"\\n\")\n",
    "\n",
    "not_in_slycot_wrapper = list(set(slycot_f2py_wrapper) - set(slycot_wrapper))\n",
    "not_in_slycot_wrapper\n",
    "\n",
    "print(f\"There are currently {len(not_in_slycot_wrapper)} routines that are found in slycot._wrapper not in slycot.\")\n",
    "print(\"------\")\n",
    "print(print_list_chunks(not_in_slycot_wrapper))\n",
    "print(\"\\n\")"
   ]
  },
  {
   "cell_type": "code",
   "execution_count": 8,
   "metadata": {},
   "outputs": [
    {
     "name": "stdout",
     "output_type": "stream",
     "text": [
      "There are currently 83 routines that are found in slycot or in slycot._wrapper. (union)\n",
      "------\n",
      "['tb03ad_l', 'ag08bd', 'ab09bd', 'ab13ed', 'ab01nd', 'mb03rd']\n",
      "['tb04ad_r', 'ab09nd', 'ab05nd', 'tf01rd', 'tc04ad', 'ab13bd']\n",
      "['td04ad', 'sg02ad_bb', 'sb10dd', 'sb10jd', 'tc01od_r', 'tg01fd_nn']\n",
      "['tb05ad', 'mb05md', 'sb02od_n', 'tb03ad_r', 'sb02md', 'sg02ad_bc']\n",
      "['mb05nd', 'sb04qd', 'tc04ad_l', 'sb03od', 'ab07nd', 'sb02mt_c']\n",
      "['sb10hd', 'ab05md', 'ab08nz', 'sg02ad_g', 'sb02od_c', 'sb04md']\n",
      "['tg01fd_uu', 'ab09ad', 'tb05ad_nh', 'sg02ad_bn', 'mb03vd', 'sb02mt_cl']\n",
      "['tb05ad_ag', 'sb02mt', 'tc01od_l', 'sg03ad', 'tb01id', 'mb03wd']\n",
      "['ab09ax', 'td04ad_r', 'sb10yd', 'sb02mt_n', 'ab04md', 'sb01bd']\n",
      "['sb10fd', 'sb03md', 'sb02od_d', 'ab13fd', 'sb02mt_nl', 'tg01ad']\n",
      "['ab13md', 'tc01od', 'tc04ad_r', 'tf01md', 'ab09md', 'sg03bd']\n",
      "['sg02ad_bd', 'sb02od_b', 'sg02ad', 'tb04ad', 'ab13dd', 'ab08nd']\n",
      "['td04ad_c', 'tb01pd', 'tb05ad_ng', 'tb04ad_c', 'mc01td', 'sb02od']\n",
      "['sb10ad', 'tb03ad', 'mb03vy', 'sb03md57', 'tg01fd_ii']\n",
      "None\n",
      "\n",
      "\n",
      "There are currently 42 routines that are found in slycot and in slycot._wrapper. (intersection)\n",
      "------\n",
      "['ag08bd', 'sb10yd', 'ab09bd', 'ab13ed', 'ab01nd', 'ab04md']\n",
      "['mb03rd', 'ab09nd', 'ab05nd', 'sb01bd', 'tf01rd', 'ab13bd']\n",
      "['sb10fd', 'sb10dd', 'sb03md', 'ab13fd', 'ab13md', 'mb05md']\n",
      "['tf01md', 'sb02md', 'mb05nd', 'sb04qd', 'ab09ax', 'ab09md']\n",
      "['sb03od', 'ab07nd', 'sb10hd', 'sg03bd', 'ab05md', 'ab08nz']\n",
      "['sb04md', 'ab13dd', 'ab08nd', 'ab09ad', 'tb01pd', 'mb03vd']\n",
      "['mc01td', 'sb10ad', 'mb03vy', 'sg03ad', 'tb01id', 'mb03wd']\n",
      "None\n",
      "\n",
      "\n"
     ]
    }
   ],
   "source": [
    "union = list(set(slycot_f2py_wrapper) | set(slycot_wrapper))\n",
    "\n",
    "print(f\"There are currently {len(union)} routines that are found in slycot or in slycot._wrapper. (union)\")\n",
    "print(\"------\")\n",
    "print(print_list_chunks(union))\n",
    "print(\"\\n\")\n",
    "\n",
    "\n",
    "intersection = list(set(slycot_f2py_wrapper) & set(slycot_wrapper))\n",
    "intersection\n",
    "\n",
    "print(f\"There are currently {len(intersection)} routines that are found in slycot and in slycot._wrapper. (intersection)\")\n",
    "print(\"------\")\n",
    "print(print_list_chunks(intersection))\n",
    "print(\"\\n\")"
   ]
  },
  {
   "cell_type": "code",
   "execution_count": 9,
   "metadata": {},
   "outputs": [
    {
     "data": {
      "image/png": "[encoded data removed]",
      "text/plain": [
       "<Figure size 640x480 with 1 Axes>"
      ]
     },
     "metadata": {},
     "output_type": "display_data"
    }
   ],
   "source": [
    "venn2(subsets = (len(set(slycot_wrapper)), \n",
    "                 len(set(slycot_f2py_wrapper)), \n",
    "                 len(intersection)), set_labels = ('slycot', 'slycot._wrapper'))\n",
    "plt.show()"
   ]
  }
 ],
 "metadata": {
  "kernelspec": {
   "display_name": "slycot-dev",
   "language": "python",
   "name": "python3"
  },
  "language_info": {
   "codemirror_mode": {
    "name": "ipython",
    "version": 3
   },
   "file_extension": ".py",
   "mimetype": "text/x-python",
   "name": "python",
   "nbconvert_exporter": "python",
   "pygments_lexer": "ipython3",
   "version": "3.10.12"
  },
  "orig_nbformat": 4
 },
 "nbformat": 4,
 "nbformat_minor": 2
}
