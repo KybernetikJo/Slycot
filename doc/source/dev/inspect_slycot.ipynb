{
 "cells": [
  {
   "attachments": {},
   "cell_type": "markdown",
   "metadata": {},
   "source": [
    "# Inspect Slycot"
   ]
  },
  {
   "attachments": {},
   "cell_type": "markdown",
   "metadata": {},
   "source": [
    "This notebook shows how to inspect the slycot module.\n",
    "The result gives us a first insight which slicot procedures are implemented.\n",
    "In addition we get some insight about the organization of the slycot module."
   ]
  },
  {
   "cell_type": "code",
   "execution_count": 1,
   "metadata": {},
   "outputs": [
    {
     "name": "stdout",
     "output_type": "stream",
     "text": [
      "0.1.dev635+g0e79a27.d20230825\n"
     ]
    }
   ],
   "source": [
    "import re\n",
    "import slycot\n",
    "print(slycot.__version__)"
   ]
  },
  {
   "attachments": {},
   "cell_type": "markdown",
   "metadata": {},
   "source": [
    "##  Helper functions"
   ]
  },
  {
   "cell_type": "code",
   "execution_count": 2,
   "metadata": {},
   "outputs": [],
   "source": [
    "def print_list_chunks(routines_list, n=6):\n",
    "    \"\"\"Print list in chunks of lists.\"\"\"\n",
    "    start = 0\n",
    "    end = len(routines_list)\n",
    "    step = n\n",
    "    for i in range(start, end, step):\n",
    "        x = i\n",
    "        print(routines_list[x:x+step])"
   ]
  },
  {
   "cell_type": "code",
   "execution_count": 3,
   "metadata": {},
   "outputs": [],
   "source": [
    "def get_slycot_routines(sly):\n",
    "    all_attributes = dir(sly)\n",
    "    r = re.compile(\"[a-z][a-z][0-9][0-9a-z][a-z][a-z]\")\n",
    "    matched_attributes = list(filter(r.match, all_attributes)) # Read Note below\n",
    "    return matched_attributes"
   ]
  },
  {
   "attachments": {},
   "cell_type": "markdown",
   "metadata": {},
   "source": [
    "## Inspect Wrapper function"
   ]
  },
  {
   "attachments": {},
   "cell_type": "markdown",
   "metadata": {},
   "source": [
    "### Outer wrapper"
   ]
  },
  {
   "cell_type": "code",
   "execution_count": 4,
   "metadata": {},
   "outputs": [
    {
     "name": "stdout",
     "output_type": "stream",
     "text": [
      "There are currently 50 routines that are found in slycot.\n",
      "------\n",
      "['ab01nd', 'ab04md', 'ab05md', 'ab05nd', 'ab07nd', 'ab08nd']\n",
      "['ab08nz', 'ab09ad', 'ab09ax', 'ab09bd', 'ab09md', 'ab09nd']\n",
      "['ab13bd', 'ab13dd', 'ab13ed', 'ab13fd', 'ab13md', 'mb03rd']\n",
      "['mb03vd', 'mb03vy', 'mb03wd', 'mb05md', 'mb05nd', 'mc01td']\n",
      "['sb01bd', 'sb02md', 'sb02mt', 'sb02od', 'sb03md', 'sb03md57']\n",
      "['sb03od', 'sb04md', 'sb04qd', 'sb10ad', 'sb10dd', 'sb10fd']\n",
      "['sb10hd', 'sg02ad', 'sg03ad', 'sg03bd', 'tb01id', 'tb01pd']\n",
      "['tb03ad', 'tb04ad', 'tb05ad', 'tc01od', 'tc04ad', 'td04ad']\n",
      "['tf01md', 'tf01rd']\n",
      "None\n"
     ]
    }
   ],
   "source": [
    "slycot_wrapper = get_slycot_routines(slycot)\n",
    "\n",
    "print(f\"There are currently {len(slycot_wrapper)} routines that are found in slycot.\")\n",
    "print(\"------\")\n",
    "print(print_list_chunks(slycot_wrapper))"
   ]
  },
  {
   "attachments": {},
   "cell_type": "markdown",
   "metadata": {},
   "source": [
    "### Inner wrapper"
   ]
  },
  {
   "cell_type": "code",
   "execution_count": 5,
   "metadata": {},
   "outputs": [
    {
     "name": "stdout",
     "output_type": "stream",
     "text": [
      "There are currently 72 routines that are found in slycot._wrapper.\n",
      "------\n",
      "['ab01nd', 'ab04md', 'ab05md', 'ab05nd', 'ab07nd', 'ab08nd']\n",
      "['ab08nz', 'ab09ad', 'ab09ax', 'ab09bd', 'ab09md', 'ab09nd']\n",
      "['ab13bd', 'ab13dd', 'ab13ed', 'ab13fd', 'ab13md', 'ag08bd']\n",
      "['mb03rd', 'mb03vd', 'mb03vy', 'mb03wd', 'mb05md', 'mb05nd']\n",
      "['mc01td', 'sb01bd', 'sb02md', 'sb02mt_c', 'sb02mt_cl', 'sb02mt_n']\n",
      "['sb02mt_nl', 'sb02od_b', 'sb02od_c', 'sb02od_d', 'sb02od_n', 'sb03md']\n",
      "['sb03od', 'sb04md', 'sb04qd', 'sb10ad', 'sb10dd', 'sb10fd']\n",
      "['sb10hd', 'sb10jd', 'sg02ad_bb', 'sg02ad_bc', 'sg02ad_bd', 'sg02ad_bn']\n",
      "['sg02ad_g', 'sg03ad', 'sg03bd', 'tb01id', 'tb01pd', 'tb03ad_l']\n",
      "['tb03ad_r', 'tb04ad_c', 'tb04ad_r', 'tb05ad_ag', 'tb05ad_ng', 'tb05ad_nh']\n",
      "['tc01od_l', 'tc01od_r', 'tc04ad_l', 'tc04ad_r', 'td04ad_c', 'td04ad_r']\n",
      "['tf01md', 'tf01rd', 'tg01ad', 'tg01fd_ii', 'tg01fd_nn', 'tg01fd_uu']\n",
      "None\n"
     ]
    }
   ],
   "source": [
    "slycot_f2py_wrapper = get_slycot_routines(slycot._wrapper)\n",
    "\n",
    "print(f\"There are currently {len(slycot_f2py_wrapper)} routines that are found in slycot._wrapper.\")\n",
    "print(\"------\")\n",
    "print(print_list_chunks(slycot_f2py_wrapper))"
   ]
  },
  {
   "attachments": {},
   "cell_type": "markdown",
   "metadata": {},
   "source": [
    "## Generate Sets for the Venn-Diagramm"
   ]
  },
  {
   "cell_type": "code",
   "execution_count": 6,
   "metadata": {},
   "outputs": [],
   "source": [
    "import matplotlib.pyplot as plt\n",
    "from matplotlib_venn import venn2"
   ]
  },
  {
   "cell_type": "code",
   "execution_count": 7,
   "metadata": {},
   "outputs": [
    {
     "name": "stdout",
     "output_type": "stream",
     "text": [
      "There are currently 10 routines that found in slycot not in slycot._wrapper.\n",
      "------\n",
      "['td04ad', 'tb04ad', 'sb03md57', 'tc04ad', 'tb05ad', 'tc01od']\n",
      "['sb02od', 'tb03ad', 'sg02ad', 'sb02mt']\n",
      "None\n",
      "\n",
      "\n",
      "There are currently 32 routines that are found in slycot._wrapper not in slycot.\n",
      "------\n",
      "['sg02ad_bb', 'sg02ad_bn', 'sb10jd', 'tg01ad', 'ag08bd', 'sb02od_n']\n",
      "['sb02mt_n', 'sb02mt_cl', 'tc04ad_l', 'sb02od_b', 'tg01fd_ii', 'sg02ad_bc']\n",
      "['sb02od_c', 'sg02ad_bd', 'tb03ad_l', 'tc01od_l', 'tb05ad_nh', 'sb02mt_nl']\n",
      "['td04ad_c', 'sg02ad_g', 'sb02mt_c', 'tg01fd_nn', 'tb04ad_c', 'tb03ad_r']\n",
      "['tc01od_r', 'tb05ad_ag', 'td04ad_r', 'sb02od_d', 'tb05ad_ng', 'tb04ad_r']\n",
      "['tg01fd_uu', 'tc04ad_r']\n",
      "None\n",
      "\n",
      "\n"
     ]
    }
   ],
   "source": [
    "not_in_slycot_f2py_wrapper = list(set(slycot_wrapper) - set(slycot_f2py_wrapper))\n",
    "not_in_slycot_f2py_wrapper\n",
    "\n",
    "print(f\"There are currently {len(not_in_slycot_f2py_wrapper)} routines that found in slycot not in slycot._wrapper.\")\n",
    "print(\"------\")\n",
    "print(print_list_chunks(not_in_slycot_f2py_wrapper))\n",
    "print(\"\\n\")\n",
    "\n",
    "not_in_slycot_wrapper = list(set(slycot_f2py_wrapper) - set(slycot_wrapper))\n",
    "not_in_slycot_wrapper\n",
    "\n",
    "print(f\"There are currently {len(not_in_slycot_wrapper)} routines that are found in slycot._wrapper not in slycot.\")\n",
    "print(\"------\")\n",
    "print(print_list_chunks(not_in_slycot_wrapper))\n",
    "print(\"\\n\")"
   ]
  },
  {
   "cell_type": "code",
   "execution_count": 8,
   "metadata": {},
   "outputs": [
    {
     "name": "stdout",
     "output_type": "stream",
     "text": [
      "There are currently 82 routines that are found in slycot or in slycot._wrapper. (union)\n",
      "------\n",
      "['tb04ad', 'ab13ed', 'tg01ad', 'ab13fd', 'mb03vd', 'sb02od_n']\n",
      "['ab08nz', 'sb02mt_cl', 'sb02od_b', 'tc04ad_l', 'sg02ad_bc', 'sb02od_c']\n",
      "['ab09ax', 'sg03ad', 'ab09md', 'ab09nd', 'sb10hd', 'ab05nd']\n",
      "['tb05ad_nh', 'td04ad', 'sb03md57', 'sb02mt_nl', 'sb04md', 'td04ad_c']\n",
      "['sb01bd', 'ab13md', 'sb10ad', 'mc01td', 'tb01id', 'tg01fd_nn']\n",
      "['tb03ad_r', 'tc01od_r', 'ab13bd', 'sb10fd', 'sb03md', 'sb02od_d']\n",
      "['tb03ad', 'tb05ad_ng', 'tg01fd_uu', 'tc04ad_r', 'sb04qd', 'sb02md']\n",
      "['sg02ad_bb', 'tf01md', 'sg02ad_bn', 'sb10jd', 'sb10dd', 'ab08nd']\n",
      "['ag08bd', 'mb05md', 'sb02mt_n', 'ab01nd', 'tg01fd_ii', 'ab05md']\n",
      "['mb03wd', 'sg02ad_bd', 'tc04ad', 'tc01od', 'sb02od', 'tb03ad_l']\n",
      "['tc01od_l', 'sg02ad', 'ab13dd', 'ab09ad', 'mb03vy', 'sb03od']\n",
      "['ab04md', 'sb02mt_c', 'sg02ad_g', 'tb05ad', 'ab07nd', 'tb04ad_c']\n",
      "['sb02mt', 'mb05nd', 'tb05ad_ag', 'td04ad_r', 'mb03rd', 'sg03bd']\n",
      "['ab09bd', 'tf01rd', 'tb04ad_r', 'tb01pd']\n",
      "None\n",
      "\n",
      "\n",
      "There are currently 40 routines that are found in slycot and in slycot._wrapper. (intersection)\n",
      "------\n",
      "['ab13ed', 'tf01md', 'sb10dd', 'ab13fd', 'mb03vd', 'ab08nd']\n",
      "['mb05md', 'ab08nz', 'ab01nd', 'ab05md', 'ab09ax', 'mb03wd']\n",
      "['sg03ad', 'ab09md', 'ab09nd', 'ab13dd', 'sb10hd', 'ab05nd']\n",
      "['ab09ad', 'sb04md', 'sb01bd', 'ab13md', 'mb03vy', 'ab04md']\n",
      "['mc01td', 'sb03od', 'sb10ad', 'tb01id', 'ab07nd', 'mb05nd']\n",
      "['ab13bd', 'mb03rd', 'sb10fd', 'sb03md', 'sb02md', 'sg03bd']\n",
      "['ab09bd', 'tf01rd', 'tb01pd', 'sb04qd']\n",
      "None\n",
      "\n",
      "\n"
     ]
    }
   ],
   "source": [
    "union = list(set(slycot_f2py_wrapper) | set(slycot_wrapper))\n",
    "\n",
    "print(f\"There are currently {len(union)} routines that are found in slycot or in slycot._wrapper. (union)\")\n",
    "print(\"------\")\n",
    "print(print_list_chunks(union))\n",
    "print(\"\\n\")\n",
    "\n",
    "\n",
    "intersection = list(set(slycot_f2py_wrapper) & set(slycot_wrapper))\n",
    "intersection\n",
    "\n",
    "print(f\"There are currently {len(intersection)} routines that are found in slycot and in slycot._wrapper. (intersection)\")\n",
    "print(\"------\")\n",
    "print(print_list_chunks(intersection))\n",
    "print(\"\\n\")"
   ]
  },
  {
   "cell_type": "code",
   "execution_count": 9,
   "metadata": {},
   "outputs": [
    {
     "data": {
      "image/png": "[encoded data removed]",
      "text/plain": [
       "<Figure size 640x480 with 1 Axes>"
      ]
     },
     "metadata": {},
     "output_type": "display_data"
    }
   ],
   "source": [
    "venn2(subsets = (len(set(slycot_wrapper)), \n",
    "                 len(set(slycot_f2py_wrapper)), \n",
    "                 len(intersection)), set_labels = ('slycot', 'slycot._wrapper'))\n",
    "plt.show()"
   ]
  }
 ],
 "metadata": {
  "kernelspec": {
   "display_name": "slycot-dev",
   "language": "python",
   "name": "python3"
  },
  "language_info": {
   "codemirror_mode": {
    "name": "ipython",
    "version": 3
   },
   "file_extension": ".py",
   "mimetype": "text/x-python",
   "name": "python",
   "nbconvert_exporter": "python",
   "pygments_lexer": "ipython3",
   "version": "3.10.12"
  },
  "orig_nbformat": 4
 },
 "nbformat": 4,
 "nbformat_minor": 2
}
